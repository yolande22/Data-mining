{
 "cells": [
  {
   "cell_type": "markdown",
   "metadata": {},
   "source": [
    "# ANALYSE DES FACTEURS DE RÉUSSITE D’UN ÉTUDIANT"
   ]
  },
  {
   "cell_type": "markdown",
   "metadata": {},
   "source": [
    "# Objectif\n",
    "* modéliser les facteurs qui prédisent le potentiel qu’un étudiant va réussir l’examen final de diplomation.  \n"
   ]
  },
  {
   "cell_type": "markdown",
   "metadata": {},
   "source": [
    "# Type de modélisation\n",
    "* Classification car la cible est discrète et les classes sont connues"
   ]
  },
  {
   "cell_type": "markdown",
   "metadata": {},
   "source": [
    "# Algorithmes\n",
    "\n",
    "* KNN\n",
    "* Arbre de décision\n",
    "\n"
   ]
  },
  {
   "cell_type": "markdown",
   "metadata": {},
   "source": [
    "# I DESCRIPTION DE DONNÉES"
   ]
  },
  {
   "cell_type": "markdown",
   "metadata": {},
   "source": [
    "* Apprentissage du modele sur tout le dataset.\n",
    "* Effectur le Test du modele sur le meme dataset, \n",
    "* Evaluer et comparer la classe predite avec la vraie classe"
   ]
  },
  {
   "cell_type": "code",
   "execution_count": 405,
   "metadata": {
    "collapsed": false
   },
   "outputs": [],
   "source": [
    "import numpy as np\n",
    "import pylab as pl\n",
    "import pandas as pd\n",
    "import csv as csv\n",
    "import matplotlib.pyplot as plt\n",
    "from matplotlib.colors import ListedColormap\n",
    "from sklearn import neighbors, datasets\n",
    "\n",
    "# Charger les données du fichier csv\n",
    "df=pd.read_csv(\"data_etudiants.csv\")\n",
    "\n",
    "\n"
   ]
  },
  {
   "cell_type": "markdown",
   "metadata": {},
   "source": [
    "* Affichage des 10 premiers "
   ]
  },
  {
   "cell_type": "code",
   "execution_count": 406,
   "metadata": {
    "collapsed": false
   },
   "outputs": [
    {
     "data": {
      "text/html": [
       "<div>\n",
       "<table border=\"1\" class=\"dataframe\">\n",
       "  <thead>\n",
       "    <tr style=\"text-align: right;\">\n",
       "      <th></th>\n",
       "      <th>school</th>\n",
       "      <th>sex</th>\n",
       "      <th>age</th>\n",
       "      <th>address</th>\n",
       "      <th>famsize</th>\n",
       "      <th>Pstatus</th>\n",
       "      <th>Medu</th>\n",
       "      <th>Fedu</th>\n",
       "      <th>Mjob</th>\n",
       "      <th>Fjob</th>\n",
       "      <th>...</th>\n",
       "      <th>internet</th>\n",
       "      <th>romantic</th>\n",
       "      <th>famrel</th>\n",
       "      <th>freetime</th>\n",
       "      <th>goout</th>\n",
       "      <th>Dalc</th>\n",
       "      <th>Walc</th>\n",
       "      <th>health</th>\n",
       "      <th>absences</th>\n",
       "      <th>passed</th>\n",
       "    </tr>\n",
       "  </thead>\n",
       "  <tbody>\n",
       "    <tr>\n",
       "      <th>0</th>\n",
       "      <td>GP</td>\n",
       "      <td>F</td>\n",
       "      <td>18</td>\n",
       "      <td>U</td>\n",
       "      <td>GT3</td>\n",
       "      <td>A</td>\n",
       "      <td>4</td>\n",
       "      <td>4</td>\n",
       "      <td>at_home</td>\n",
       "      <td>teacher</td>\n",
       "      <td>...</td>\n",
       "      <td>no</td>\n",
       "      <td>no</td>\n",
       "      <td>4</td>\n",
       "      <td>3</td>\n",
       "      <td>4</td>\n",
       "      <td>1</td>\n",
       "      <td>1</td>\n",
       "      <td>3</td>\n",
       "      <td>6</td>\n",
       "      <td>no</td>\n",
       "    </tr>\n",
       "    <tr>\n",
       "      <th>1</th>\n",
       "      <td>GP</td>\n",
       "      <td>F</td>\n",
       "      <td>17</td>\n",
       "      <td>U</td>\n",
       "      <td>GT3</td>\n",
       "      <td>T</td>\n",
       "      <td>1</td>\n",
       "      <td>1</td>\n",
       "      <td>at_home</td>\n",
       "      <td>other</td>\n",
       "      <td>...</td>\n",
       "      <td>yes</td>\n",
       "      <td>no</td>\n",
       "      <td>5</td>\n",
       "      <td>3</td>\n",
       "      <td>3</td>\n",
       "      <td>1</td>\n",
       "      <td>1</td>\n",
       "      <td>3</td>\n",
       "      <td>4</td>\n",
       "      <td>no</td>\n",
       "    </tr>\n",
       "    <tr>\n",
       "      <th>2</th>\n",
       "      <td>GP</td>\n",
       "      <td>F</td>\n",
       "      <td>15</td>\n",
       "      <td>U</td>\n",
       "      <td>LE3</td>\n",
       "      <td>T</td>\n",
       "      <td>1</td>\n",
       "      <td>1</td>\n",
       "      <td>at_home</td>\n",
       "      <td>other</td>\n",
       "      <td>...</td>\n",
       "      <td>yes</td>\n",
       "      <td>no</td>\n",
       "      <td>4</td>\n",
       "      <td>3</td>\n",
       "      <td>2</td>\n",
       "      <td>2</td>\n",
       "      <td>3</td>\n",
       "      <td>3</td>\n",
       "      <td>10</td>\n",
       "      <td>yes</td>\n",
       "    </tr>\n",
       "    <tr>\n",
       "      <th>3</th>\n",
       "      <td>GP</td>\n",
       "      <td>F</td>\n",
       "      <td>15</td>\n",
       "      <td>U</td>\n",
       "      <td>GT3</td>\n",
       "      <td>T</td>\n",
       "      <td>4</td>\n",
       "      <td>2</td>\n",
       "      <td>health</td>\n",
       "      <td>services</td>\n",
       "      <td>...</td>\n",
       "      <td>yes</td>\n",
       "      <td>yes</td>\n",
       "      <td>3</td>\n",
       "      <td>2</td>\n",
       "      <td>2</td>\n",
       "      <td>1</td>\n",
       "      <td>1</td>\n",
       "      <td>5</td>\n",
       "      <td>2</td>\n",
       "      <td>yes</td>\n",
       "    </tr>\n",
       "    <tr>\n",
       "      <th>4</th>\n",
       "      <td>GP</td>\n",
       "      <td>F</td>\n",
       "      <td>16</td>\n",
       "      <td>U</td>\n",
       "      <td>GT3</td>\n",
       "      <td>T</td>\n",
       "      <td>3</td>\n",
       "      <td>3</td>\n",
       "      <td>other</td>\n",
       "      <td>other</td>\n",
       "      <td>...</td>\n",
       "      <td>no</td>\n",
       "      <td>no</td>\n",
       "      <td>4</td>\n",
       "      <td>3</td>\n",
       "      <td>2</td>\n",
       "      <td>1</td>\n",
       "      <td>2</td>\n",
       "      <td>5</td>\n",
       "      <td>4</td>\n",
       "      <td>yes</td>\n",
       "    </tr>\n",
       "    <tr>\n",
       "      <th>5</th>\n",
       "      <td>GP</td>\n",
       "      <td>M</td>\n",
       "      <td>16</td>\n",
       "      <td>U</td>\n",
       "      <td>LE3</td>\n",
       "      <td>T</td>\n",
       "      <td>4</td>\n",
       "      <td>3</td>\n",
       "      <td>services</td>\n",
       "      <td>other</td>\n",
       "      <td>...</td>\n",
       "      <td>yes</td>\n",
       "      <td>no</td>\n",
       "      <td>5</td>\n",
       "      <td>4</td>\n",
       "      <td>2</td>\n",
       "      <td>1</td>\n",
       "      <td>2</td>\n",
       "      <td>5</td>\n",
       "      <td>10</td>\n",
       "      <td>yes</td>\n",
       "    </tr>\n",
       "    <tr>\n",
       "      <th>6</th>\n",
       "      <td>GP</td>\n",
       "      <td>M</td>\n",
       "      <td>16</td>\n",
       "      <td>U</td>\n",
       "      <td>LE3</td>\n",
       "      <td>T</td>\n",
       "      <td>2</td>\n",
       "      <td>2</td>\n",
       "      <td>other</td>\n",
       "      <td>other</td>\n",
       "      <td>...</td>\n",
       "      <td>yes</td>\n",
       "      <td>no</td>\n",
       "      <td>4</td>\n",
       "      <td>4</td>\n",
       "      <td>4</td>\n",
       "      <td>1</td>\n",
       "      <td>1</td>\n",
       "      <td>3</td>\n",
       "      <td>0</td>\n",
       "      <td>yes</td>\n",
       "    </tr>\n",
       "    <tr>\n",
       "      <th>7</th>\n",
       "      <td>GP</td>\n",
       "      <td>F</td>\n",
       "      <td>17</td>\n",
       "      <td>U</td>\n",
       "      <td>GT3</td>\n",
       "      <td>A</td>\n",
       "      <td>4</td>\n",
       "      <td>4</td>\n",
       "      <td>other</td>\n",
       "      <td>teacher</td>\n",
       "      <td>...</td>\n",
       "      <td>no</td>\n",
       "      <td>no</td>\n",
       "      <td>4</td>\n",
       "      <td>1</td>\n",
       "      <td>4</td>\n",
       "      <td>1</td>\n",
       "      <td>1</td>\n",
       "      <td>1</td>\n",
       "      <td>6</td>\n",
       "      <td>no</td>\n",
       "    </tr>\n",
       "    <tr>\n",
       "      <th>8</th>\n",
       "      <td>GP</td>\n",
       "      <td>M</td>\n",
       "      <td>15</td>\n",
       "      <td>U</td>\n",
       "      <td>LE3</td>\n",
       "      <td>A</td>\n",
       "      <td>3</td>\n",
       "      <td>2</td>\n",
       "      <td>services</td>\n",
       "      <td>other</td>\n",
       "      <td>...</td>\n",
       "      <td>yes</td>\n",
       "      <td>no</td>\n",
       "      <td>4</td>\n",
       "      <td>2</td>\n",
       "      <td>2</td>\n",
       "      <td>1</td>\n",
       "      <td>1</td>\n",
       "      <td>1</td>\n",
       "      <td>0</td>\n",
       "      <td>yes</td>\n",
       "    </tr>\n",
       "    <tr>\n",
       "      <th>9</th>\n",
       "      <td>GP</td>\n",
       "      <td>M</td>\n",
       "      <td>15</td>\n",
       "      <td>U</td>\n",
       "      <td>GT3</td>\n",
       "      <td>T</td>\n",
       "      <td>3</td>\n",
       "      <td>4</td>\n",
       "      <td>other</td>\n",
       "      <td>other</td>\n",
       "      <td>...</td>\n",
       "      <td>yes</td>\n",
       "      <td>no</td>\n",
       "      <td>5</td>\n",
       "      <td>5</td>\n",
       "      <td>1</td>\n",
       "      <td>1</td>\n",
       "      <td>1</td>\n",
       "      <td>5</td>\n",
       "      <td>0</td>\n",
       "      <td>yes</td>\n",
       "    </tr>\n",
       "  </tbody>\n",
       "</table>\n",
       "<p>10 rows × 31 columns</p>\n",
       "</div>"
      ],
      "text/plain": [
       "  school sex  age address famsize Pstatus  Medu  Fedu      Mjob      Fjob  \\\n",
       "0     GP   F   18       U     GT3       A     4     4   at_home   teacher   \n",
       "1     GP   F   17       U     GT3       T     1     1   at_home     other   \n",
       "2     GP   F   15       U     LE3       T     1     1   at_home     other   \n",
       "3     GP   F   15       U     GT3       T     4     2    health  services   \n",
       "4     GP   F   16       U     GT3       T     3     3     other     other   \n",
       "5     GP   M   16       U     LE3       T     4     3  services     other   \n",
       "6     GP   M   16       U     LE3       T     2     2     other     other   \n",
       "7     GP   F   17       U     GT3       A     4     4     other   teacher   \n",
       "8     GP   M   15       U     LE3       A     3     2  services     other   \n",
       "9     GP   M   15       U     GT3       T     3     4     other     other   \n",
       "\n",
       "   ...   internet romantic  famrel  freetime  goout Dalc Walc health absences  \\\n",
       "0  ...         no       no       4         3      4    1    1      3        6   \n",
       "1  ...        yes       no       5         3      3    1    1      3        4   \n",
       "2  ...        yes       no       4         3      2    2    3      3       10   \n",
       "3  ...        yes      yes       3         2      2    1    1      5        2   \n",
       "4  ...         no       no       4         3      2    1    2      5        4   \n",
       "5  ...        yes       no       5         4      2    1    2      5       10   \n",
       "6  ...        yes       no       4         4      4    1    1      3        0   \n",
       "7  ...         no       no       4         1      4    1    1      1        6   \n",
       "8  ...        yes       no       4         2      2    1    1      1        0   \n",
       "9  ...        yes       no       5         5      1    1    1      5        0   \n",
       "\n",
       "  passed  \n",
       "0     no  \n",
       "1     no  \n",
       "2    yes  \n",
       "3    yes  \n",
       "4    yes  \n",
       "5    yes  \n",
       "6    yes  \n",
       "7     no  \n",
       "8    yes  \n",
       "9    yes  \n",
       "\n",
       "[10 rows x 31 columns]"
      ]
     },
     "execution_count": 406,
     "metadata": {},
     "output_type": "execute_result"
    }
   ],
   "source": [
    "# Afficher les données\n",
    "df.head(10)\n"
   ]
  },
  {
   "cell_type": "markdown",
   "metadata": {},
   "source": [
    "* Shape"
   ]
  },
  {
   "cell_type": "code",
   "execution_count": 407,
   "metadata": {
    "collapsed": false
   },
   "outputs": [
    {
     "data": {
      "text/plain": [
       "(395, 31)"
      ]
     },
     "execution_count": 407,
     "metadata": {},
     "output_type": "execute_result"
    }
   ],
   "source": [
    "df.shape"
   ]
  },
  {
   "cell_type": "code",
   "execution_count": 408,
   "metadata": {
    "collapsed": false
   },
   "outputs": [
    {
     "data": {
      "text/plain": [
       "school        object\n",
       "sex           object\n",
       "age            int64\n",
       "address       object\n",
       "famsize       object\n",
       "Pstatus       object\n",
       "Medu           int64\n",
       "Fedu           int64\n",
       "Mjob          object\n",
       "Fjob          object\n",
       "reason        object\n",
       "guardian      object\n",
       "traveltime     int64\n",
       "studytime      int64\n",
       "failures       int64\n",
       "schoolsup     object\n",
       "famsup        object\n",
       "paid          object\n",
       "activities    object\n",
       "nursery       object\n",
       "higher        object\n",
       "internet      object\n",
       "romantic      object\n",
       "famrel         int64\n",
       "freetime       int64\n",
       "goout          int64\n",
       "Dalc           int64\n",
       "Walc           int64\n",
       "health         int64\n",
       "absences       int64\n",
       "passed        object\n",
       "dtype: object"
      ]
     },
     "execution_count": 408,
     "metadata": {},
     "output_type": "execute_result"
    }
   ],
   "source": [
    "\n",
    "#Afficher les colonnes et leurs types de données\n",
    "df.dtypes\n",
    "\n",
    "# On a 18 Variables de type object contre 13 variables de type entier\"\"\""
   ]
  },
  {
   "cell_type": "markdown",
   "metadata": {},
   "source": [
    "# II EXPLORATION DE DONNÉES\n",
    "\n",
    "\n",
    "* Exploration des variables quantitatives et catégorielles\n",
    "* univariée, bivariée, multidimensionnelle \n"
   ]
  },
  {
   "cell_type": "markdown",
   "metadata": {},
   "source": [
    "### Exploration des variables quantitatives"
   ]
  },
  {
   "cell_type": "markdown",
   "metadata": {},
   "source": [
    "* Statistique descriptives"
   ]
  },
  {
   "cell_type": "code",
   "execution_count": 409,
   "metadata": {
    "collapsed": false
   },
   "outputs": [
    {
     "data": {
      "text/html": [
       "<div>\n",
       "<table border=\"1\" class=\"dataframe\">\n",
       "  <thead>\n",
       "    <tr style=\"text-align: right;\">\n",
       "      <th></th>\n",
       "      <th>age</th>\n",
       "      <th>Medu</th>\n",
       "      <th>Fedu</th>\n",
       "      <th>traveltime</th>\n",
       "      <th>studytime</th>\n",
       "      <th>failures</th>\n",
       "      <th>famrel</th>\n",
       "      <th>freetime</th>\n",
       "      <th>goout</th>\n",
       "      <th>Dalc</th>\n",
       "      <th>Walc</th>\n",
       "      <th>health</th>\n",
       "      <th>absences</th>\n",
       "    </tr>\n",
       "  </thead>\n",
       "  <tbody>\n",
       "    <tr>\n",
       "      <th>count</th>\n",
       "      <td>395.000000</td>\n",
       "      <td>395.000000</td>\n",
       "      <td>395.000000</td>\n",
       "      <td>395.000000</td>\n",
       "      <td>395.000000</td>\n",
       "      <td>395.000000</td>\n",
       "      <td>395.000000</td>\n",
       "      <td>395.000000</td>\n",
       "      <td>395.000000</td>\n",
       "      <td>395.000000</td>\n",
       "      <td>395.000000</td>\n",
       "      <td>395.000000</td>\n",
       "      <td>395.000000</td>\n",
       "    </tr>\n",
       "    <tr>\n",
       "      <th>mean</th>\n",
       "      <td>16.696203</td>\n",
       "      <td>2.749367</td>\n",
       "      <td>2.521519</td>\n",
       "      <td>1.448101</td>\n",
       "      <td>2.035443</td>\n",
       "      <td>0.334177</td>\n",
       "      <td>3.944304</td>\n",
       "      <td>3.235443</td>\n",
       "      <td>3.108861</td>\n",
       "      <td>1.481013</td>\n",
       "      <td>2.291139</td>\n",
       "      <td>3.554430</td>\n",
       "      <td>5.708861</td>\n",
       "    </tr>\n",
       "    <tr>\n",
       "      <th>std</th>\n",
       "      <td>1.276043</td>\n",
       "      <td>1.094735</td>\n",
       "      <td>1.088201</td>\n",
       "      <td>0.697505</td>\n",
       "      <td>0.839240</td>\n",
       "      <td>0.743651</td>\n",
       "      <td>0.896659</td>\n",
       "      <td>0.998862</td>\n",
       "      <td>1.113278</td>\n",
       "      <td>0.890741</td>\n",
       "      <td>1.287897</td>\n",
       "      <td>1.390303</td>\n",
       "      <td>8.003096</td>\n",
       "    </tr>\n",
       "    <tr>\n",
       "      <th>min</th>\n",
       "      <td>15.000000</td>\n",
       "      <td>0.000000</td>\n",
       "      <td>0.000000</td>\n",
       "      <td>1.000000</td>\n",
       "      <td>1.000000</td>\n",
       "      <td>0.000000</td>\n",
       "      <td>1.000000</td>\n",
       "      <td>1.000000</td>\n",
       "      <td>1.000000</td>\n",
       "      <td>1.000000</td>\n",
       "      <td>1.000000</td>\n",
       "      <td>1.000000</td>\n",
       "      <td>0.000000</td>\n",
       "    </tr>\n",
       "    <tr>\n",
       "      <th>25%</th>\n",
       "      <td>16.000000</td>\n",
       "      <td>2.000000</td>\n",
       "      <td>2.000000</td>\n",
       "      <td>1.000000</td>\n",
       "      <td>1.000000</td>\n",
       "      <td>0.000000</td>\n",
       "      <td>4.000000</td>\n",
       "      <td>3.000000</td>\n",
       "      <td>2.000000</td>\n",
       "      <td>1.000000</td>\n",
       "      <td>1.000000</td>\n",
       "      <td>3.000000</td>\n",
       "      <td>0.000000</td>\n",
       "    </tr>\n",
       "    <tr>\n",
       "      <th>50%</th>\n",
       "      <td>17.000000</td>\n",
       "      <td>3.000000</td>\n",
       "      <td>2.000000</td>\n",
       "      <td>1.000000</td>\n",
       "      <td>2.000000</td>\n",
       "      <td>0.000000</td>\n",
       "      <td>4.000000</td>\n",
       "      <td>3.000000</td>\n",
       "      <td>3.000000</td>\n",
       "      <td>1.000000</td>\n",
       "      <td>2.000000</td>\n",
       "      <td>4.000000</td>\n",
       "      <td>4.000000</td>\n",
       "    </tr>\n",
       "    <tr>\n",
       "      <th>75%</th>\n",
       "      <td>18.000000</td>\n",
       "      <td>4.000000</td>\n",
       "      <td>3.000000</td>\n",
       "      <td>2.000000</td>\n",
       "      <td>2.000000</td>\n",
       "      <td>0.000000</td>\n",
       "      <td>5.000000</td>\n",
       "      <td>4.000000</td>\n",
       "      <td>4.000000</td>\n",
       "      <td>2.000000</td>\n",
       "      <td>3.000000</td>\n",
       "      <td>5.000000</td>\n",
       "      <td>8.000000</td>\n",
       "    </tr>\n",
       "    <tr>\n",
       "      <th>max</th>\n",
       "      <td>22.000000</td>\n",
       "      <td>4.000000</td>\n",
       "      <td>4.000000</td>\n",
       "      <td>4.000000</td>\n",
       "      <td>4.000000</td>\n",
       "      <td>3.000000</td>\n",
       "      <td>5.000000</td>\n",
       "      <td>5.000000</td>\n",
       "      <td>5.000000</td>\n",
       "      <td>5.000000</td>\n",
       "      <td>5.000000</td>\n",
       "      <td>5.000000</td>\n",
       "      <td>75.000000</td>\n",
       "    </tr>\n",
       "  </tbody>\n",
       "</table>\n",
       "</div>"
      ],
      "text/plain": [
       "              age        Medu        Fedu  traveltime   studytime    failures  \\\n",
       "count  395.000000  395.000000  395.000000  395.000000  395.000000  395.000000   \n",
       "mean    16.696203    2.749367    2.521519    1.448101    2.035443    0.334177   \n",
       "std      1.276043    1.094735    1.088201    0.697505    0.839240    0.743651   \n",
       "min     15.000000    0.000000    0.000000    1.000000    1.000000    0.000000   \n",
       "25%     16.000000    2.000000    2.000000    1.000000    1.000000    0.000000   \n",
       "50%     17.000000    3.000000    2.000000    1.000000    2.000000    0.000000   \n",
       "75%     18.000000    4.000000    3.000000    2.000000    2.000000    0.000000   \n",
       "max     22.000000    4.000000    4.000000    4.000000    4.000000    3.000000   \n",
       "\n",
       "           famrel    freetime       goout        Dalc        Walc      health  \\\n",
       "count  395.000000  395.000000  395.000000  395.000000  395.000000  395.000000   \n",
       "mean     3.944304    3.235443    3.108861    1.481013    2.291139    3.554430   \n",
       "std      0.896659    0.998862    1.113278    0.890741    1.287897    1.390303   \n",
       "min      1.000000    1.000000    1.000000    1.000000    1.000000    1.000000   \n",
       "25%      4.000000    3.000000    2.000000    1.000000    1.000000    3.000000   \n",
       "50%      4.000000    3.000000    3.000000    1.000000    2.000000    4.000000   \n",
       "75%      5.000000    4.000000    4.000000    2.000000    3.000000    5.000000   \n",
       "max      5.000000    5.000000    5.000000    5.000000    5.000000    5.000000   \n",
       "\n",
       "         absences  \n",
       "count  395.000000  \n",
       "mean     5.708861  \n",
       "std      8.003096  \n",
       "min      0.000000  \n",
       "25%      0.000000  \n",
       "50%      4.000000  \n",
       "75%      8.000000  \n",
       "max     75.000000  "
      ]
     },
     "execution_count": 409,
     "metadata": {},
     "output_type": "execute_result"
    }
   ],
   "source": [
    "#Sommaire des variables numériques\n",
    "df.describe()\n",
    "#Verifier le count pour chacun des attributs"
   ]
  },
  {
   "cell_type": "markdown",
   "metadata": {},
   "source": [
    "* Observations générales"
   ]
  },
  {
   "cell_type": "code",
   "execution_count": 410,
   "metadata": {
    "collapsed": true
   },
   "outputs": [],
   "source": [
    "# 13 Variables sont quantitatives sur 31\n",
    "# il n'y a pas de données manquantes\n",
    "# la variable absences a des valeurs extrêmes\n",
    "# les 12 variables restantes ne présentent pas une grande dispersions dans les données"
   ]
  },
  {
   "cell_type": "markdown",
   "metadata": {},
   "source": [
    "* Distribution de probabilité pour quelques variables de prédiction"
   ]
  },
  {
   "cell_type": "code",
   "execution_count": 411,
   "metadata": {
    "collapsed": false
   },
   "outputs": [],
   "source": [
    "#plot des dist de prob variables avec le module seaborn (voir matplotlib)\n",
    "#import du module\n",
    "import seaborn as sns \n",
    "%matplotlib inline"
   ]
  },
  {
   "cell_type": "markdown",
   "metadata": {},
   "source": [
    "* Distribution pour une des variables: absences"
   ]
  },
  {
   "cell_type": "code",
   "execution_count": 412,
   "metadata": {
    "collapsed": false
   },
   "outputs": [
    {
     "data": {
      "text/plain": [
       "<matplotlib.axes._subplots.AxesSubplot at 0x2f1534e0>"
      ]
     },
     "execution_count": 412,
     "metadata": {},
     "output_type": "execute_result"
    },
    {
     "data": {
      "image/png": "[encoded data removed]",
      "text/plain": [
       "<matplotlib.figure.Figure at 0x2efcef98>"
      ]
     },
     "metadata": {},
     "output_type": "display_data"
    }
   ],
   "source": [
    "df['absences'].hist(bins=50)"
   ]
  },
  {
   "cell_type": "markdown",
   "metadata": {},
   "source": [
    "* Ajout de trace KDE"
   ]
  },
  {
   "cell_type": "code",
   "execution_count": 413,
   "metadata": {
    "collapsed": false
   },
   "outputs": [
    {
     "data": {
      "text/plain": [
       "<matplotlib.axes._subplots.AxesSubplot at 0x2f35f5c0>"
      ]
     },
     "execution_count": 413,
     "metadata": {},
     "output_type": "execute_result"
    },
    {
     "data": {
      "image/png": "[encoded data removed]",
      "text/plain": [
       "<matplotlib.figure.Figure at 0x2f36ba90>"
      ]
     },
     "metadata": {},
     "output_type": "display_data"
    }
   ],
   "source": [
    "#KDE en meme temps\n",
    "attr = df['absences']\n",
    "sns.distplot(attr)\n",
    "#Important: On oberve des outliers étalés vers la droite"
   ]
  },
  {
   "cell_type": "markdown",
   "metadata": {},
   "source": [
    "* Utilisation du boxplot pour identifier les outliers ou valeurs extremes"
   ]
  },
  {
   "cell_type": "code",
   "execution_count": 414,
   "metadata": {
    "collapsed": false
   },
   "outputs": [
    {
     "data": {
      "text/plain": [
       "<matplotlib.axes._subplots.AxesSubplot at 0x2feffd30>"
      ]
     },
     "execution_count": 414,
     "metadata": {},
     "output_type": "execute_result"
    },
    {
     "data": {
      "image/png": "[encoded data removed]",
      "text/plain": [
       "<matplotlib.figure.Figure at 0x2fe2e390>"
      ]
     },
     "metadata": {},
     "output_type": "display_data"
    }
   ],
   "source": [
    "#Box plot pour identifier les valeurs extrêmes et la distribution des valeurs\n",
    "df.boxplot(column='absences', sym='gD',return_type='axes')\n",
    "#remarque: bcp d'outliers"
   ]
  },
  {
   "cell_type": "markdown",
   "metadata": {},
   "source": [
    "* Ségregation par sexe"
   ]
  },
  {
   "cell_type": "code",
   "execution_count": 415,
   "metadata": {
    "collapsed": false
   },
   "outputs": [
    {
     "data": {
      "text/plain": [
       "<matplotlib.axes._subplots.AxesSubplot at 0x2ffec5c0>"
      ]
     },
     "execution_count": 415,
     "metadata": {},
     "output_type": "execute_result"
    },
    {
     "data": {
      "image/png": "[encoded data removed]",
      "text/plain": [
       "<matplotlib.figure.Figure at 0x3010b208>"
      ]
     },
     "metadata": {},
     "output_type": "display_data"
    }
   ],
   "source": [
    "df.boxplot(column='absences',sym='gD', by = 'sex')\n",
    "#remarque: bcp d'outliers du coté des Femelles"
   ]
  },
  {
   "cell_type": "markdown",
   "metadata": {},
   "source": [
    "* Ségregation par age"
   ]
  },
  {
   "cell_type": "code",
   "execution_count": 416,
   "metadata": {
    "collapsed": false
   },
   "outputs": [
    {
     "data": {
      "text/plain": [
       "<matplotlib.axes._subplots.AxesSubplot at 0x2fe02470>"
      ]
     },
     "execution_count": 416,
     "metadata": {},
     "output_type": "execute_result"
    },
    {
     "data": {
      "image/png": "[encoded data removed]",
      "text/plain": [
       "<matplotlib.figure.Figure at 0x30346668>"
      ]
     },
     "metadata": {},
     "output_type": "display_data"
    }
   ],
   "source": [
    "df.boxplot(column='absences',sym='gD', by = 'age')\n",
    "#remarque: bcp plus d'outliers chez les étudiants de 17 ans"
   ]
  },
  {
   "cell_type": "markdown",
   "metadata": {},
   "source": [
    "* Exploration d'une autre variable de prédiction"
   ]
  },
  {
   "cell_type": "code",
   "execution_count": 417,
   "metadata": {
    "collapsed": false
   },
   "outputs": [
    {
     "data": {
      "text/plain": [
       "<matplotlib.axes._subplots.AxesSubplot at 0x304c14a8>"
      ]
     },
     "execution_count": 417,
     "metadata": {},
     "output_type": "execute_result"
    },
    {
     "data": {
      "image/png": "[encoded data removed]",
      "text/plain": [
       "<matplotlib.figure.Figure at 0x3076a630>"
      ]
     },
     "metadata": {},
     "output_type": "display_data"
    }
   ],
   "source": [
    "\n",
    "df['freetime'].hist(bins=20)\n"
   ]
  },
  {
   "cell_type": "code",
   "execution_count": 418,
   "metadata": {
    "collapsed": false
   },
   "outputs": [
    {
     "data": {
      "text/plain": [
       "<matplotlib.axes._subplots.AxesSubplot at 0x304d3278>"
      ]
     },
     "execution_count": 418,
     "metadata": {},
     "output_type": "execute_result"
    },
    {
     "data": {
      "image/png": "[encoded data removed]",
      "text/plain": [
       "<matplotlib.figure.Figure at 0x309cc6d8>"
      ]
     },
     "metadata": {},
     "output_type": "display_data"
    }
   ],
   "source": [
    "#box plot\n",
    "df.boxplot(column='freetime',sym='gD', return_type='axes')\n",
    "#remarque:un outlier"
   ]
  },
  {
   "cell_type": "markdown",
   "metadata": {},
   "source": [
    "### Exploration des variables catégorielles"
   ]
  },
  {
   "cell_type": "code",
   "execution_count": 419,
   "metadata": {
    "collapsed": false
   },
   "outputs": [
    {
     "name": "stdout",
     "output_type": "stream",
     "text": [
      "MS     46\n",
      "GP    349\n",
      "Name: school, dtype: int64\n",
      "\n",
      "M    187\n",
      "F    208\n",
      "Name: sex, dtype: int64\n",
      "\n",
      "R     88\n",
      "U    307\n",
      "Name: address, dtype: int64\n",
      "\n",
      "LE3    114\n",
      "GT3    281\n",
      "Name: famsize, dtype: int64\n",
      "\n",
      "A     41\n",
      "T    354\n",
      "Name: Pstatus, dtype: int64\n",
      "\n",
      "health       34\n",
      "teacher      58\n",
      "at_home      59\n",
      "services    103\n",
      "other       141\n",
      "Name: Mjob, dtype: int64\n",
      "\n",
      "health       18\n",
      "at_home      20\n",
      "teacher      29\n",
      "services    111\n",
      "other       217\n",
      "Name: Fjob, dtype: int64\n",
      "\n",
      "other          36\n",
      "reputation    105\n",
      "home          109\n",
      "course        145\n",
      "Name: reason, dtype: int64\n",
      "\n",
      "other      32\n",
      "father     90\n",
      "mother    273\n",
      "Name: guardian, dtype: int64\n",
      "\n",
      "yes     51\n",
      "no     344\n",
      "Name: schoolsup, dtype: int64\n",
      "\n",
      "no     153\n",
      "yes    242\n",
      "Name: famsup, dtype: int64\n",
      "\n",
      "yes    181\n",
      "no     214\n",
      "Name: paid, dtype: int64\n",
      "\n",
      "no     194\n",
      "yes    201\n",
      "Name: activities, dtype: int64\n",
      "\n",
      "no      81\n",
      "yes    314\n",
      "Name: nursery, dtype: int64\n",
      "\n",
      "no      20\n",
      "yes    375\n",
      "Name: higher, dtype: int64\n",
      "\n",
      "no      66\n",
      "yes    329\n",
      "Name: internet, dtype: int64\n",
      "\n",
      "yes    132\n",
      "no     263\n",
      "Name: romantic, dtype: int64\n",
      "\n",
      "no     130\n",
      "yes    265\n",
      "Name: passed, dtype: int64\n",
      "\n"
     ]
    }
   ],
   "source": [
    "# Frequences \n",
    "\n",
    "for col in df.columns:\n",
    "    if (df[col].dtypes ==  \"object\"):\n",
    "        #selection des frequences\n",
    "        nb= df[df[col].name].value_counts(ascending=True)\n",
    "        print(nb)        \n",
    "        print\n",
    "# Toutes les données sont renseigner dans les 18 variables"
   ]
  },
  {
   "cell_type": "code",
   "execution_count": 420,
   "metadata": {
    "collapsed": false
   },
   "outputs": [
    {
     "name": "stdout",
     "output_type": "stream",
     "text": [
      "Populating the interactive namespace from numpy and matplotlib\n"
     ]
    },
    {
     "name": "stderr",
     "output_type": "stream",
     "text": [
      "WARNING: pylab import has clobbered these variables: ['clf', 'var']\n",
      "`%matplotlib` prevents importing * from pylab and numpy\n"
     ]
    },
    {
     "data": {
      "text/plain": [
       "(-1.0017067424594561,\n",
       " 1.1321457255058389,\n",
       " -1.0033144775738505,\n",
       " 1.0767153758519528)"
      ]
     },
     "execution_count": 420,
     "metadata": {},
     "output_type": "execute_result"
    },
    {
     "data": {
      "image/png": "[encoded data removed]",
      "text/plain": [
       "<matplotlib.figure.Figure at 0x3057f1d0>"
      ]
     },
     "metadata": {},
     "output_type": "display_data"
    }
   ],
   "source": [
    "# Camembert de la variable target PASSED\n",
    "\n",
    "%pylab inline\n",
    "name = ['yes = 1', 'no = 2']\n",
    "data = [265, 130]\n",
    "\n",
    "explode=(0, 0.15)\n",
    "pl.pie(data, explode=explode, labels=name, autopct='%1.1f%%', startangle=90, shadow=True, )\n",
    "pl.axis('equal')\n",
    "\n",
    "# Environ un tiers des étudiants échoue à l'examen de diplomation"
   ]
  },
  {
   "cell_type": "markdown",
   "metadata": {},
   "source": [
    "# III PRÉ-TRAITEMENT  DE DONNÉES \n",
    "\n",
    "\n",
    "* Lissage de la variable \"absences\"\n",
    "* Numérisation des variables catégorielle\n"
   ]
  },
  {
   "cell_type": "markdown",
   "metadata": {},
   "source": [
    "* Lissage de la variable quantitative absences"
   ]
  },
  {
   "cell_type": "code",
   "execution_count": 421,
   "metadata": {
    "collapsed": false
   },
   "outputs": [
    {
     "data": {
      "text/plain": [
       "<matplotlib.axes._subplots.AxesSubplot at 0x30ba06d8>"
      ]
     },
     "execution_count": 421,
     "metadata": {},
     "output_type": "execute_result"
    },
    {
     "data": {
      "image/png": "[encoded data removed]",
      "text/plain": [
       "<matplotlib.figure.Figure at 0x3076a8d0>"
      ]
     },
     "metadata": {},
     "output_type": "display_data"
    }
   ],
   "source": [
    "# Diminuer l'impact des valeurs extremes\n",
    "import numpy as np\n",
    "df['absences_sqrt'] = np.sqrt(df['absences'])\n",
    "# suppression de la variable absences\n",
    "df.drop(['absences'],inplace=True,axis=1,errors='ignore')\n",
    "df['absences_sqrt'].hist(bins=20)"
   ]
  },
  {
   "cell_type": "markdown",
   "metadata": {},
   "source": [
    "* Numérisation des variables catégorielles"
   ]
  },
  {
   "cell_type": "code",
   "execution_count": 422,
   "metadata": {
    "collapsed": false
   },
   "outputs": [
    {
     "data": {
      "text/plain": [
       "school             int64\n",
       "sex                int64\n",
       "age                int64\n",
       "address            int64\n",
       "famsize            int64\n",
       "Pstatus            int64\n",
       "Medu               int64\n",
       "Fedu               int64\n",
       "Mjob               int64\n",
       "Fjob               int64\n",
       "reason             int64\n",
       "guardian           int64\n",
       "traveltime         int64\n",
       "studytime          int64\n",
       "failures           int64\n",
       "schoolsup          int64\n",
       "famsup             int64\n",
       "paid               int64\n",
       "activities         int64\n",
       "nursery            int64\n",
       "higher             int64\n",
       "internet           int64\n",
       "romantic           int64\n",
       "famrel             int64\n",
       "freetime           int64\n",
       "goout              int64\n",
       "Dalc               int64\n",
       "Walc               int64\n",
       "health             int64\n",
       "passed             int64\n",
       "absences_sqrt    float64\n",
       "dtype: object"
      ]
     },
     "execution_count": 422,
     "metadata": {},
     "output_type": "execute_result"
    }
   ],
   "source": [
    "#Transformation des variables catégorielles en entiers\n",
    "from sklearn.preprocessing import LabelEncoder\n",
    "le = LabelEncoder()\n",
    "   \n",
    "for col in df.columns:\n",
    "    if (df[col].dtypes ==  \"object\"):\n",
    "        #selection des frequences\n",
    "        df[df[col].name] = le.fit_transform(df[df[col].name])\n",
    "df.dtypes      \n",
    "       \n"
   ]
  },
  {
   "cell_type": "markdown",
   "metadata": {},
   "source": [
    "# IV SELECTION DES FEATURES\n",
    "\n",
    "* Supression des variables redondante\n",
    "* Supression des variables très peu corrélées à la cible\n",
    "* Éventuellement extraction de variables par le PCA"
   ]
  },
  {
   "cell_type": "markdown",
   "metadata": {},
   "source": [
    "### Études des corrélations de Pearson\n",
    "\n",
    "* C'est la plus appropriée pour nos données numériques\n",
    "* But: on essaye d'obtenir un ensemble de features independent les uns des autres\n"
   ]
  },
  {
   "cell_type": "markdown",
   "metadata": {},
   "source": [
    "\n",
    "### Interprétation\n",
    "* valeur de 1: correlation totale\n",
    "* valeur -1: correlation négative\n",
    "* valeur 0: pas de correlation"
   ]
  },
  {
   "cell_type": "code",
   "execution_count": 423,
   "metadata": {
    "collapsed": false
   },
   "outputs": [
    {
     "data": {
      "text/html": [
       "<div>\n",
       "<table border=\"1\" class=\"dataframe\">\n",
       "  <thead>\n",
       "    <tr style=\"text-align: right;\">\n",
       "      <th></th>\n",
       "      <th>school</th>\n",
       "      <th>sex</th>\n",
       "      <th>age</th>\n",
       "      <th>address</th>\n",
       "      <th>famsize</th>\n",
       "      <th>Pstatus</th>\n",
       "      <th>Medu</th>\n",
       "      <th>Fedu</th>\n",
       "      <th>Mjob</th>\n",
       "      <th>Fjob</th>\n",
       "      <th>...</th>\n",
       "      <th>internet</th>\n",
       "      <th>romantic</th>\n",
       "      <th>famrel</th>\n",
       "      <th>freetime</th>\n",
       "      <th>goout</th>\n",
       "      <th>Dalc</th>\n",
       "      <th>Walc</th>\n",
       "      <th>health</th>\n",
       "      <th>passed</th>\n",
       "      <th>absences_sqrt</th>\n",
       "    </tr>\n",
       "  </thead>\n",
       "  <tbody>\n",
       "    <tr>\n",
       "      <th>school</th>\n",
       "      <td>1.000000</td>\n",
       "      <td>-0.012286</td>\n",
       "      <td>0.377610</td>\n",
       "      <td>-0.279797</td>\n",
       "      <td>0.064866</td>\n",
       "      <td>0.045923</td>\n",
       "      <td>-0.133333</td>\n",
       "      <td>-0.079807</td>\n",
       "      <td>-0.056670</td>\n",
       "      <td>0.018974</td>\n",
       "      <td>...</td>\n",
       "      <td>-0.133578</td>\n",
       "      <td>0.060700</td>\n",
       "      <td>-0.047926</td>\n",
       "      <td>0.032988</td>\n",
       "      <td>-0.007152</td>\n",
       "      <td>0.114209</td>\n",
       "      <td>0.065087</td>\n",
       "      <td>-0.042651</td>\n",
       "      <td>-0.031254</td>\n",
       "      <td>-0.082994</td>\n",
       "    </tr>\n",
       "    <tr>\n",
       "      <th>sex</th>\n",
       "      <td>-0.012286</td>\n",
       "      <td>1.000000</td>\n",
       "      <td>-0.028606</td>\n",
       "      <td>-0.028504</td>\n",
       "      <td>0.089862</td>\n",
       "      <td>0.023443</td>\n",
       "      <td>0.078228</td>\n",
       "      <td>0.034878</td>\n",
       "      <td>0.191421</td>\n",
       "      <td>0.084957</td>\n",
       "      <td>...</td>\n",
       "      <td>0.044113</td>\n",
       "      <td>-0.102023</td>\n",
       "      <td>0.058971</td>\n",
       "      <td>0.238744</td>\n",
       "      <td>0.075897</td>\n",
       "      <td>0.268171</td>\n",
       "      <td>0.274194</td>\n",
       "      <td>0.143588</td>\n",
       "      <td>0.070618</td>\n",
       "      <td>-0.028137</td>\n",
       "    </tr>\n",
       "    <tr>\n",
       "      <th>age</th>\n",
       "      <td>0.377610</td>\n",
       "      <td>-0.028606</td>\n",
       "      <td>1.000000</td>\n",
       "      <td>-0.146722</td>\n",
       "      <td>0.037847</td>\n",
       "      <td>0.029598</td>\n",
       "      <td>-0.163658</td>\n",
       "      <td>-0.163438</td>\n",
       "      <td>-0.069104</td>\n",
       "      <td>-0.035191</td>\n",
       "      <td>...</td>\n",
       "      <td>-0.112094</td>\n",
       "      <td>0.164669</td>\n",
       "      <td>0.053940</td>\n",
       "      <td>0.016434</td>\n",
       "      <td>0.126964</td>\n",
       "      <td>0.131125</td>\n",
       "      <td>0.117276</td>\n",
       "      <td>-0.062187</td>\n",
       "      <td>-0.179645</td>\n",
       "      <td>0.159962</td>\n",
       "    </tr>\n",
       "    <tr>\n",
       "      <th>address</th>\n",
       "      <td>-0.279797</td>\n",
       "      <td>-0.028504</td>\n",
       "      <td>-0.146722</td>\n",
       "      <td>1.000000</td>\n",
       "      <td>0.072472</td>\n",
       "      <td>-0.042572</td>\n",
       "      <td>0.138804</td>\n",
       "      <td>0.072178</td>\n",
       "      <td>0.108818</td>\n",
       "      <td>-0.001911</td>\n",
       "      <td>...</td>\n",
       "      <td>0.216842</td>\n",
       "      <td>0.005257</td>\n",
       "      <td>0.014258</td>\n",
       "      <td>0.034878</td>\n",
       "      <td>0.068835</td>\n",
       "      <td>-0.093494</td>\n",
       "      <td>-0.101126</td>\n",
       "      <td>-0.040355</td>\n",
       "      <td>0.052282</td>\n",
       "      <td>-0.039513</td>\n",
       "    </tr>\n",
       "    <tr>\n",
       "      <th>famsize</th>\n",
       "      <td>0.064866</td>\n",
       "      <td>0.089862</td>\n",
       "      <td>0.037847</td>\n",
       "      <td>0.072472</td>\n",
       "      <td>1.000000</td>\n",
       "      <td>-0.149612</td>\n",
       "      <td>-0.043068</td>\n",
       "      <td>-0.058879</td>\n",
       "      <td>0.071386</td>\n",
       "      <td>-0.084448</td>\n",
       "      <td>...</td>\n",
       "      <td>0.000720</td>\n",
       "      <td>0.034395</td>\n",
       "      <td>-0.022776</td>\n",
       "      <td>0.017695</td>\n",
       "      <td>0.023064</td>\n",
       "      <td>0.101521</td>\n",
       "      <td>0.103425</td>\n",
       "      <td>-0.028992</td>\n",
       "      <td>0.041842</td>\n",
       "      <td>0.058006</td>\n",
       "    </tr>\n",
       "    <tr>\n",
       "      <th>Pstatus</th>\n",
       "      <td>0.045923</td>\n",
       "      <td>0.023443</td>\n",
       "      <td>0.029598</td>\n",
       "      <td>-0.042572</td>\n",
       "      <td>-0.149612</td>\n",
       "      <td>1.000000</td>\n",
       "      <td>-0.123565</td>\n",
       "      <td>-0.088730</td>\n",
       "      <td>-0.054476</td>\n",
       "      <td>0.033892</td>\n",
       "      <td>...</td>\n",
       "      <td>0.070074</td>\n",
       "      <td>-0.040451</td>\n",
       "      <td>0.025179</td>\n",
       "      <td>0.038717</td>\n",
       "      <td>0.003459</td>\n",
       "      <td>-0.030590</td>\n",
       "      <td>0.006045</td>\n",
       "      <td>0.022307</td>\n",
       "      <td>-0.044050</td>\n",
       "      <td>-0.112454</td>\n",
       "    </tr>\n",
       "    <tr>\n",
       "      <th>Medu</th>\n",
       "      <td>-0.133333</td>\n",
       "      <td>0.078228</td>\n",
       "      <td>-0.163658</td>\n",
       "      <td>0.138804</td>\n",
       "      <td>-0.043068</td>\n",
       "      <td>-0.123565</td>\n",
       "      <td>1.000000</td>\n",
       "      <td>0.623455</td>\n",
       "      <td>0.454805</td>\n",
       "      <td>0.157920</td>\n",
       "      <td>...</td>\n",
       "      <td>0.201463</td>\n",
       "      <td>0.039681</td>\n",
       "      <td>-0.003914</td>\n",
       "      <td>0.030891</td>\n",
       "      <td>0.064094</td>\n",
       "      <td>0.019834</td>\n",
       "      <td>-0.047123</td>\n",
       "      <td>-0.046878</td>\n",
       "      <td>0.115396</td>\n",
       "      <td>0.098676</td>\n",
       "    </tr>\n",
       "    <tr>\n",
       "      <th>Fedu</th>\n",
       "      <td>-0.079807</td>\n",
       "      <td>0.034878</td>\n",
       "      <td>-0.163438</td>\n",
       "      <td>0.072178</td>\n",
       "      <td>-0.058879</td>\n",
       "      <td>-0.088730</td>\n",
       "      <td>0.623455</td>\n",
       "      <td>1.000000</td>\n",
       "      <td>0.243327</td>\n",
       "      <td>0.200169</td>\n",
       "      <td>...</td>\n",
       "      <td>0.127507</td>\n",
       "      <td>0.015602</td>\n",
       "      <td>-0.001370</td>\n",
       "      <td>-0.012846</td>\n",
       "      <td>0.043105</td>\n",
       "      <td>0.002386</td>\n",
       "      <td>-0.012631</td>\n",
       "      <td>0.014742</td>\n",
       "      <td>0.108057</td>\n",
       "      <td>0.003426</td>\n",
       "    </tr>\n",
       "    <tr>\n",
       "      <th>Mjob</th>\n",
       "      <td>-0.056670</td>\n",
       "      <td>0.191421</td>\n",
       "      <td>-0.069104</td>\n",
       "      <td>0.108818</td>\n",
       "      <td>0.071386</td>\n",
       "      <td>-0.054476</td>\n",
       "      <td>0.454805</td>\n",
       "      <td>0.243327</td>\n",
       "      <td>1.000000</td>\n",
       "      <td>0.196758</td>\n",
       "      <td>...</td>\n",
       "      <td>0.216969</td>\n",
       "      <td>-0.062999</td>\n",
       "      <td>0.038584</td>\n",
       "      <td>0.114321</td>\n",
       "      <td>0.003169</td>\n",
       "      <td>0.076076</td>\n",
       "      <td>-0.012051</td>\n",
       "      <td>0.065220</td>\n",
       "      <td>0.026592</td>\n",
       "      <td>0.053647</td>\n",
       "    </tr>\n",
       "    <tr>\n",
       "      <th>Fjob</th>\n",
       "      <td>0.018974</td>\n",
       "      <td>0.084957</td>\n",
       "      <td>-0.035191</td>\n",
       "      <td>-0.001911</td>\n",
       "      <td>-0.084448</td>\n",
       "      <td>0.033892</td>\n",
       "      <td>0.157920</td>\n",
       "      <td>0.200169</td>\n",
       "      <td>0.196758</td>\n",
       "      <td>1.000000</td>\n",
       "      <td>...</td>\n",
       "      <td>0.035777</td>\n",
       "      <td>-0.000583</td>\n",
       "      <td>0.013709</td>\n",
       "      <td>-0.047475</td>\n",
       "      <td>0.010340</td>\n",
       "      <td>0.077897</td>\n",
       "      <td>0.070024</td>\n",
       "      <td>-0.018058</td>\n",
       "      <td>0.028309</td>\n",
       "      <td>-0.014322</td>\n",
       "    </tr>\n",
       "    <tr>\n",
       "      <th>reason</th>\n",
       "      <td>-0.090010</td>\n",
       "      <td>-0.095867</td>\n",
       "      <td>-0.015337</td>\n",
       "      <td>-0.047891</td>\n",
       "      <td>-0.019212</td>\n",
       "      <td>-0.003553</td>\n",
       "      <td>0.117653</td>\n",
       "      <td>0.043099</td>\n",
       "      <td>0.022022</td>\n",
       "      <td>-0.027688</td>\n",
       "      <td>...</td>\n",
       "      <td>0.049916</td>\n",
       "      <td>0.018894</td>\n",
       "      <td>-0.014934</td>\n",
       "      <td>-0.066834</td>\n",
       "      <td>-0.050937</td>\n",
       "      <td>-0.048539</td>\n",
       "      <td>-0.044699</td>\n",
       "      <td>-0.157132</td>\n",
       "      <td>0.099300</td>\n",
       "      <td>0.133525</td>\n",
       "    </tr>\n",
       "    <tr>\n",
       "      <th>guardian</th>\n",
       "      <td>0.011109</td>\n",
       "      <td>-0.071343</td>\n",
       "      <td>0.290485</td>\n",
       "      <td>-0.044512</td>\n",
       "      <td>-0.002718</td>\n",
       "      <td>-0.108715</td>\n",
       "      <td>-0.023918</td>\n",
       "      <td>-0.133644</td>\n",
       "      <td>0.014787</td>\n",
       "      <td>-0.080511</td>\n",
       "      <td>...</td>\n",
       "      <td>-0.059394</td>\n",
       "      <td>0.093945</td>\n",
       "      <td>0.040979</td>\n",
       "      <td>0.045716</td>\n",
       "      <td>0.056557</td>\n",
       "      <td>-0.005847</td>\n",
       "      <td>-0.040810</td>\n",
       "      <td>-0.067497</td>\n",
       "      <td>-0.101407</td>\n",
       "      <td>0.163972</td>\n",
       "    </tr>\n",
       "    <tr>\n",
       "      <th>traveltime</th>\n",
       "      <td>0.242308</td>\n",
       "      <td>0.059722</td>\n",
       "      <td>0.070641</td>\n",
       "      <td>-0.328096</td>\n",
       "      <td>0.063493</td>\n",
       "      <td>0.028265</td>\n",
       "      <td>-0.171639</td>\n",
       "      <td>-0.158194</td>\n",
       "      <td>-0.109752</td>\n",
       "      <td>0.055878</td>\n",
       "      <td>...</td>\n",
       "      <td>-0.111302</td>\n",
       "      <td>0.021962</td>\n",
       "      <td>-0.016808</td>\n",
       "      <td>-0.017025</td>\n",
       "      <td>0.028540</td>\n",
       "      <td>0.138325</td>\n",
       "      <td>0.134116</td>\n",
       "      <td>0.007501</td>\n",
       "      <td>-0.044446</td>\n",
       "      <td>-0.019138</td>\n",
       "    </tr>\n",
       "    <tr>\n",
       "      <th>studytime</th>\n",
       "      <td>-0.090681</td>\n",
       "      <td>-0.306268</td>\n",
       "      <td>-0.004140</td>\n",
       "      <td>-0.020912</td>\n",
       "      <td>-0.073595</td>\n",
       "      <td>0.024294</td>\n",
       "      <td>0.064944</td>\n",
       "      <td>-0.009175</td>\n",
       "      <td>-0.023097</td>\n",
       "      <td>-0.076817</td>\n",
       "      <td>...</td>\n",
       "      <td>0.059422</td>\n",
       "      <td>0.053285</td>\n",
       "      <td>0.039731</td>\n",
       "      <td>-0.143198</td>\n",
       "      <td>-0.063904</td>\n",
       "      <td>-0.196019</td>\n",
       "      <td>-0.253785</td>\n",
       "      <td>-0.075616</td>\n",
       "      <td>0.074613</td>\n",
       "      <td>-0.051577</td>\n",
       "    </tr>\n",
       "    <tr>\n",
       "      <th>failures</th>\n",
       "      <td>0.059804</td>\n",
       "      <td>0.044436</td>\n",
       "      <td>0.243665</td>\n",
       "      <td>-0.078578</td>\n",
       "      <td>-0.015769</td>\n",
       "      <td>-0.003339</td>\n",
       "      <td>-0.236680</td>\n",
       "      <td>-0.250408</td>\n",
       "      <td>-0.073377</td>\n",
       "      <td>-0.008275</td>\n",
       "      <td>...</td>\n",
       "      <td>-0.063451</td>\n",
       "      <td>0.093137</td>\n",
       "      <td>-0.044337</td>\n",
       "      <td>0.091987</td>\n",
       "      <td>0.124561</td>\n",
       "      <td>0.136047</td>\n",
       "      <td>0.141962</td>\n",
       "      <td>0.065827</td>\n",
       "      <td>-0.337731</td>\n",
       "      <td>0.043303</td>\n",
       "    </tr>\n",
       "    <tr>\n",
       "      <th>schoolsup</th>\n",
       "      <td>-0.139789</td>\n",
       "      <td>-0.138271</td>\n",
       "      <td>-0.251811</td>\n",
       "      <td>0.024712</td>\n",
       "      <td>-0.028642</td>\n",
       "      <td>-0.042238</td>\n",
       "      <td>-0.036029</td>\n",
       "      <td>0.037530</td>\n",
       "      <td>-0.040958</td>\n",
       "      <td>-0.011657</td>\n",
       "      <td>...</td>\n",
       "      <td>-0.009683</td>\n",
       "      <td>-0.080716</td>\n",
       "      <td>-0.001345</td>\n",
       "      <td>-0.045465</td>\n",
       "      <td>-0.037698</td>\n",
       "      <td>-0.021485</td>\n",
       "      <td>-0.087152</td>\n",
       "      <td>-0.034124</td>\n",
       "      <td>-0.099860</td>\n",
       "      <td>0.042982</td>\n",
       "    </tr>\n",
       "    <tr>\n",
       "      <th>famsup</th>\n",
       "      <td>-0.164967</td>\n",
       "      <td>-0.151623</td>\n",
       "      <td>-0.140609</td>\n",
       "      <td>0.023903</td>\n",
       "      <td>-0.112893</td>\n",
       "      <td>0.019067</td>\n",
       "      <td>0.183727</td>\n",
       "      <td>0.185496</td>\n",
       "      <td>0.050667</td>\n",
       "      <td>-0.030159</td>\n",
       "      <td>...</td>\n",
       "      <td>0.103581</td>\n",
       "      <td>0.012440</td>\n",
       "      <td>-0.020436</td>\n",
       "      <td>0.010538</td>\n",
       "      <td>-0.015631</td>\n",
       "      <td>-0.031575</td>\n",
       "      <td>-0.086688</td>\n",
       "      <td>0.029297</td>\n",
       "      <td>-0.059219</td>\n",
       "      <td>0.043212</td>\n",
       "    </tr>\n",
       "    <tr>\n",
       "      <th>paid</th>\n",
       "      <td>-0.017083</td>\n",
       "      <td>-0.129126</td>\n",
       "      <td>-0.035933</td>\n",
       "      <td>0.052800</td>\n",
       "      <td>-0.013882</td>\n",
       "      <td>0.046435</td>\n",
       "      <td>0.159700</td>\n",
       "      <td>0.086981</td>\n",
       "      <td>0.096566</td>\n",
       "      <td>-0.040435</td>\n",
       "      <td>...</td>\n",
       "      <td>0.153132</td>\n",
       "      <td>0.005536</td>\n",
       "      <td>0.000460</td>\n",
       "      <td>-0.064253</td>\n",
       "      <td>0.010493</td>\n",
       "      <td>0.062465</td>\n",
       "      <td>0.060454</td>\n",
       "      <td>-0.078132</td>\n",
       "      <td>0.092665</td>\n",
       "      <td>0.042301</td>\n",
       "    </tr>\n",
       "    <tr>\n",
       "      <th>activities</th>\n",
       "      <td>-0.116946</td>\n",
       "      <td>0.099833</td>\n",
       "      <td>-0.103063</td>\n",
       "      <td>-0.051360</td>\n",
       "      <td>-0.000113</td>\n",
       "      <td>0.097352</td>\n",
       "      <td>0.108277</td>\n",
       "      <td>0.112643</td>\n",
       "      <td>0.098754</td>\n",
       "      <td>0.032391</td>\n",
       "      <td>...</td>\n",
       "      <td>0.048663</td>\n",
       "      <td>0.019651</td>\n",
       "      <td>0.040687</td>\n",
       "      <td>0.089728</td>\n",
       "      <td>0.046088</td>\n",
       "      <td>-0.066508</td>\n",
       "      <td>-0.037477</td>\n",
       "      <td>0.023923</td>\n",
       "      <td>0.012414</td>\n",
       "      <td>0.025943</td>\n",
       "    </tr>\n",
       "    <tr>\n",
       "      <th>nursery</th>\n",
       "      <td>-0.089277</td>\n",
       "      <td>-0.008203</td>\n",
       "      <td>-0.086632</td>\n",
       "      <td>0.059589</td>\n",
       "      <td>0.102088</td>\n",
       "      <td>-0.090615</td>\n",
       "      <td>0.193263</td>\n",
       "      <td>0.157177</td>\n",
       "      <td>0.095848</td>\n",
       "      <td>-0.030812</td>\n",
       "      <td>...</td>\n",
       "      <td>0.007830</td>\n",
       "      <td>0.027495</td>\n",
       "      <td>-0.003581</td>\n",
       "      <td>-0.024696</td>\n",
       "      <td>0.004612</td>\n",
       "      <td>-0.084849</td>\n",
       "      <td>-0.099534</td>\n",
       "      <td>-0.018475</td>\n",
       "      <td>-0.008784</td>\n",
       "      <td>0.021653</td>\n",
       "    </tr>\n",
       "    <tr>\n",
       "      <th>higher</th>\n",
       "      <td>-0.024150</td>\n",
       "      <td>-0.151056</td>\n",
       "      <td>-0.209081</td>\n",
       "      <td>0.042854</td>\n",
       "      <td>-0.005806</td>\n",
       "      <td>-0.040735</td>\n",
       "      <td>0.168845</td>\n",
       "      <td>0.174566</td>\n",
       "      <td>0.097887</td>\n",
       "      <td>-0.045250</td>\n",
       "      <td>...</td>\n",
       "      <td>0.020374</td>\n",
       "      <td>-0.105664</td>\n",
       "      <td>0.024319</td>\n",
       "      <td>-0.061244</td>\n",
       "      <td>-0.039700</td>\n",
       "      <td>-0.069828</td>\n",
       "      <td>-0.100340</td>\n",
       "      <td>-0.015895</td>\n",
       "      <td>0.157708</td>\n",
       "      <td>0.011653</td>\n",
       "    </tr>\n",
       "    <tr>\n",
       "      <th>internet</th>\n",
       "      <td>-0.133578</td>\n",
       "      <td>0.044113</td>\n",
       "      <td>-0.112094</td>\n",
       "      <td>0.216842</td>\n",
       "      <td>0.000720</td>\n",
       "      <td>0.070074</td>\n",
       "      <td>0.201463</td>\n",
       "      <td>0.127507</td>\n",
       "      <td>0.216969</td>\n",
       "      <td>0.035777</td>\n",
       "      <td>...</td>\n",
       "      <td>1.000000</td>\n",
       "      <td>0.087122</td>\n",
       "      <td>0.032768</td>\n",
       "      <td>0.051286</td>\n",
       "      <td>0.074370</td>\n",
       "      <td>0.036210</td>\n",
       "      <td>0.011687</td>\n",
       "      <td>-0.080189</td>\n",
       "      <td>0.061791</td>\n",
       "      <td>0.079460</td>\n",
       "    </tr>\n",
       "    <tr>\n",
       "      <th>romantic</th>\n",
       "      <td>0.060700</td>\n",
       "      <td>-0.102023</td>\n",
       "      <td>0.164669</td>\n",
       "      <td>0.005257</td>\n",
       "      <td>0.034395</td>\n",
       "      <td>-0.040451</td>\n",
       "      <td>0.039681</td>\n",
       "      <td>0.015602</td>\n",
       "      <td>-0.062999</td>\n",
       "      <td>-0.000583</td>\n",
       "      <td>...</td>\n",
       "      <td>0.087122</td>\n",
       "      <td>1.000000</td>\n",
       "      <td>-0.063816</td>\n",
       "      <td>-0.011182</td>\n",
       "      <td>0.007870</td>\n",
       "      <td>0.015121</td>\n",
       "      <td>-0.010141</td>\n",
       "      <td>0.026342</td>\n",
       "      <td>-0.097737</td>\n",
       "      <td>0.086454</td>\n",
       "    </tr>\n",
       "    <tr>\n",
       "      <th>famrel</th>\n",
       "      <td>-0.047926</td>\n",
       "      <td>0.058971</td>\n",
       "      <td>0.053940</td>\n",
       "      <td>0.014258</td>\n",
       "      <td>-0.022776</td>\n",
       "      <td>0.025179</td>\n",
       "      <td>-0.003914</td>\n",
       "      <td>-0.001370</td>\n",
       "      <td>0.038584</td>\n",
       "      <td>0.013709</td>\n",
       "      <td>...</td>\n",
       "      <td>0.032768</td>\n",
       "      <td>-0.063816</td>\n",
       "      <td>1.000000</td>\n",
       "      <td>0.150701</td>\n",
       "      <td>0.064568</td>\n",
       "      <td>-0.077594</td>\n",
       "      <td>-0.113397</td>\n",
       "      <td>0.094056</td>\n",
       "      <td>0.046683</td>\n",
       "      <td>-0.086768</td>\n",
       "    </tr>\n",
       "    <tr>\n",
       "      <th>freetime</th>\n",
       "      <td>0.032988</td>\n",
       "      <td>0.238744</td>\n",
       "      <td>0.016434</td>\n",
       "      <td>0.034878</td>\n",
       "      <td>0.017695</td>\n",
       "      <td>0.038717</td>\n",
       "      <td>0.030891</td>\n",
       "      <td>-0.012846</td>\n",
       "      <td>0.114321</td>\n",
       "      <td>-0.047475</td>\n",
       "      <td>...</td>\n",
       "      <td>0.051286</td>\n",
       "      <td>-0.011182</td>\n",
       "      <td>0.150701</td>\n",
       "      <td>1.000000</td>\n",
       "      <td>0.285019</td>\n",
       "      <td>0.209001</td>\n",
       "      <td>0.147822</td>\n",
       "      <td>0.075733</td>\n",
       "      <td>-0.018321</td>\n",
       "      <td>-0.025575</td>\n",
       "    </tr>\n",
       "    <tr>\n",
       "      <th>goout</th>\n",
       "      <td>-0.007152</td>\n",
       "      <td>0.075897</td>\n",
       "      <td>0.126964</td>\n",
       "      <td>0.068835</td>\n",
       "      <td>0.023064</td>\n",
       "      <td>0.003459</td>\n",
       "      <td>0.064094</td>\n",
       "      <td>0.043105</td>\n",
       "      <td>0.003169</td>\n",
       "      <td>0.010340</td>\n",
       "      <td>...</td>\n",
       "      <td>0.074370</td>\n",
       "      <td>0.007870</td>\n",
       "      <td>0.064568</td>\n",
       "      <td>0.285019</td>\n",
       "      <td>1.000000</td>\n",
       "      <td>0.266994</td>\n",
       "      <td>0.420386</td>\n",
       "      <td>-0.009577</td>\n",
       "      <td>-0.183399</td>\n",
       "      <td>0.105372</td>\n",
       "    </tr>\n",
       "    <tr>\n",
       "      <th>Dalc</th>\n",
       "      <td>0.114209</td>\n",
       "      <td>0.268171</td>\n",
       "      <td>0.131125</td>\n",
       "      <td>-0.093494</td>\n",
       "      <td>0.101521</td>\n",
       "      <td>-0.030590</td>\n",
       "      <td>0.019834</td>\n",
       "      <td>0.002386</td>\n",
       "      <td>0.076076</td>\n",
       "      <td>0.077897</td>\n",
       "      <td>...</td>\n",
       "      <td>0.036210</td>\n",
       "      <td>0.015121</td>\n",
       "      <td>-0.077594</td>\n",
       "      <td>0.209001</td>\n",
       "      <td>0.266994</td>\n",
       "      <td>1.000000</td>\n",
       "      <td>0.647544</td>\n",
       "      <td>0.077180</td>\n",
       "      <td>-0.057343</td>\n",
       "      <td>0.156103</td>\n",
       "    </tr>\n",
       "    <tr>\n",
       "      <th>Walc</th>\n",
       "      <td>0.065087</td>\n",
       "      <td>0.274194</td>\n",
       "      <td>0.117276</td>\n",
       "      <td>-0.101126</td>\n",
       "      <td>0.103425</td>\n",
       "      <td>0.006045</td>\n",
       "      <td>-0.047123</td>\n",
       "      <td>-0.012631</td>\n",
       "      <td>-0.012051</td>\n",
       "      <td>0.070024</td>\n",
       "      <td>...</td>\n",
       "      <td>0.011687</td>\n",
       "      <td>-0.010141</td>\n",
       "      <td>-0.113397</td>\n",
       "      <td>0.147822</td>\n",
       "      <td>0.420386</td>\n",
       "      <td>0.647544</td>\n",
       "      <td>1.000000</td>\n",
       "      <td>0.092476</td>\n",
       "      <td>-0.029957</td>\n",
       "      <td>0.191182</td>\n",
       "    </tr>\n",
       "    <tr>\n",
       "      <th>health</th>\n",
       "      <td>-0.042651</td>\n",
       "      <td>0.143588</td>\n",
       "      <td>-0.062187</td>\n",
       "      <td>-0.040355</td>\n",
       "      <td>-0.028992</td>\n",
       "      <td>0.022307</td>\n",
       "      <td>-0.046878</td>\n",
       "      <td>0.014742</td>\n",
       "      <td>0.065220</td>\n",
       "      <td>-0.018058</td>\n",
       "      <td>...</td>\n",
       "      <td>-0.080189</td>\n",
       "      <td>0.026342</td>\n",
       "      <td>0.094056</td>\n",
       "      <td>0.075733</td>\n",
       "      <td>-0.009577</td>\n",
       "      <td>0.077180</td>\n",
       "      <td>0.092476</td>\n",
       "      <td>1.000000</td>\n",
       "      <td>-0.065668</td>\n",
       "      <td>-0.055431</td>\n",
       "    </tr>\n",
       "    <tr>\n",
       "      <th>passed</th>\n",
       "      <td>-0.031254</td>\n",
       "      <td>0.070618</td>\n",
       "      <td>-0.179645</td>\n",
       "      <td>0.052282</td>\n",
       "      <td>0.041842</td>\n",
       "      <td>-0.044050</td>\n",
       "      <td>0.115396</td>\n",
       "      <td>0.108057</td>\n",
       "      <td>0.026592</td>\n",
       "      <td>0.028309</td>\n",
       "      <td>...</td>\n",
       "      <td>0.061791</td>\n",
       "      <td>-0.097737</td>\n",
       "      <td>0.046683</td>\n",
       "      <td>-0.018321</td>\n",
       "      <td>-0.183399</td>\n",
       "      <td>-0.057343</td>\n",
       "      <td>-0.029957</td>\n",
       "      <td>-0.065668</td>\n",
       "      <td>1.000000</td>\n",
       "      <td>-0.009938</td>\n",
       "    </tr>\n",
       "    <tr>\n",
       "      <th>absences_sqrt</th>\n",
       "      <td>-0.082994</td>\n",
       "      <td>-0.028137</td>\n",
       "      <td>0.159962</td>\n",
       "      <td>-0.039513</td>\n",
       "      <td>0.058006</td>\n",
       "      <td>-0.112454</td>\n",
       "      <td>0.098676</td>\n",
       "      <td>0.003426</td>\n",
       "      <td>0.053647</td>\n",
       "      <td>-0.014322</td>\n",
       "      <td>...</td>\n",
       "      <td>0.079460</td>\n",
       "      <td>0.086454</td>\n",
       "      <td>-0.086768</td>\n",
       "      <td>-0.025575</td>\n",
       "      <td>0.105372</td>\n",
       "      <td>0.156103</td>\n",
       "      <td>0.191182</td>\n",
       "      <td>-0.055431</td>\n",
       "      <td>-0.009938</td>\n",
       "      <td>1.000000</td>\n",
       "    </tr>\n",
       "  </tbody>\n",
       "</table>\n",
       "<p>31 rows × 31 columns</p>\n",
       "</div>"
      ],
      "text/plain": [
       "                 school       sex       age   address   famsize   Pstatus  \\\n",
       "school         1.000000 -0.012286  0.377610 -0.279797  0.064866  0.045923   \n",
       "sex           -0.012286  1.000000 -0.028606 -0.028504  0.089862  0.023443   \n",
       "age            0.377610 -0.028606  1.000000 -0.146722  0.037847  0.029598   \n",
       "address       -0.279797 -0.028504 -0.146722  1.000000  0.072472 -0.042572   \n",
       "famsize        0.064866  0.089862  0.037847  0.072472  1.000000 -0.149612   \n",
       "Pstatus        0.045923  0.023443  0.029598 -0.042572 -0.149612  1.000000   \n",
       "Medu          -0.133333  0.078228 -0.163658  0.138804 -0.043068 -0.123565   \n",
       "Fedu          -0.079807  0.034878 -0.163438  0.072178 -0.058879 -0.088730   \n",
       "Mjob          -0.056670  0.191421 -0.069104  0.108818  0.071386 -0.054476   \n",
       "Fjob           0.018974  0.084957 -0.035191 -0.001911 -0.084448  0.033892   \n",
       "reason        -0.090010 -0.095867 -0.015337 -0.047891 -0.019212 -0.003553   \n",
       "guardian       0.011109 -0.071343  0.290485 -0.044512 -0.002718 -0.108715   \n",
       "traveltime     0.242308  0.059722  0.070641 -0.328096  0.063493  0.028265   \n",
       "studytime     -0.090681 -0.306268 -0.004140 -0.020912 -0.073595  0.024294   \n",
       "failures       0.059804  0.044436  0.243665 -0.078578 -0.015769 -0.003339   \n",
       "schoolsup     -0.139789 -0.138271 -0.251811  0.024712 -0.028642 -0.042238   \n",
       "famsup        -0.164967 -0.151623 -0.140609  0.023903 -0.112893  0.019067   \n",
       "paid          -0.017083 -0.129126 -0.035933  0.052800 -0.013882  0.046435   \n",
       "activities    -0.116946  0.099833 -0.103063 -0.051360 -0.000113  0.097352   \n",
       "nursery       -0.089277 -0.008203 -0.086632  0.059589  0.102088 -0.090615   \n",
       "higher        -0.024150 -0.151056 -0.209081  0.042854 -0.005806 -0.040735   \n",
       "internet      -0.133578  0.044113 -0.112094  0.216842  0.000720  0.070074   \n",
       "romantic       0.060700 -0.102023  0.164669  0.005257  0.034395 -0.040451   \n",
       "famrel        -0.047926  0.058971  0.053940  0.014258 -0.022776  0.025179   \n",
       "freetime       0.032988  0.238744  0.016434  0.034878  0.017695  0.038717   \n",
       "goout         -0.007152  0.075897  0.126964  0.068835  0.023064  0.003459   \n",
       "Dalc           0.114209  0.268171  0.131125 -0.093494  0.101521 -0.030590   \n",
       "Walc           0.065087  0.274194  0.117276 -0.101126  0.103425  0.006045   \n",
       "health        -0.042651  0.143588 -0.062187 -0.040355 -0.028992  0.022307   \n",
       "passed        -0.031254  0.070618 -0.179645  0.052282  0.041842 -0.044050   \n",
       "absences_sqrt -0.082994 -0.028137  0.159962 -0.039513  0.058006 -0.112454   \n",
       "\n",
       "                   Medu      Fedu      Mjob      Fjob      ...        \\\n",
       "school        -0.133333 -0.079807 -0.056670  0.018974      ...         \n",
       "sex            0.078228  0.034878  0.191421  0.084957      ...         \n",
       "age           -0.163658 -0.163438 -0.069104 -0.035191      ...         \n",
       "address        0.138804  0.072178  0.108818 -0.001911      ...         \n",
       "famsize       -0.043068 -0.058879  0.071386 -0.084448      ...         \n",
       "Pstatus       -0.123565 -0.088730 -0.054476  0.033892      ...         \n",
       "Medu           1.000000  0.623455  0.454805  0.157920      ...         \n",
       "Fedu           0.623455  1.000000  0.243327  0.200169      ...         \n",
       "Mjob           0.454805  0.243327  1.000000  0.196758      ...         \n",
       "Fjob           0.157920  0.200169  0.196758  1.000000      ...         \n",
       "reason         0.117653  0.043099  0.022022 -0.027688      ...         \n",
       "guardian      -0.023918 -0.133644  0.014787 -0.080511      ...         \n",
       "traveltime    -0.171639 -0.158194 -0.109752  0.055878      ...         \n",
       "studytime      0.064944 -0.009175 -0.023097 -0.076817      ...         \n",
       "failures      -0.236680 -0.250408 -0.073377 -0.008275      ...         \n",
       "schoolsup     -0.036029  0.037530 -0.040958 -0.011657      ...         \n",
       "famsup         0.183727  0.185496  0.050667 -0.030159      ...         \n",
       "paid           0.159700  0.086981  0.096566 -0.040435      ...         \n",
       "activities     0.108277  0.112643  0.098754  0.032391      ...         \n",
       "nursery        0.193263  0.157177  0.095848 -0.030812      ...         \n",
       "higher         0.168845  0.174566  0.097887 -0.045250      ...         \n",
       "internet       0.201463  0.127507  0.216969  0.035777      ...         \n",
       "romantic       0.039681  0.015602 -0.062999 -0.000583      ...         \n",
       "famrel        -0.003914 -0.001370  0.038584  0.013709      ...         \n",
       "freetime       0.030891 -0.012846  0.114321 -0.047475      ...         \n",
       "goout          0.064094  0.043105  0.003169  0.010340      ...         \n",
       "Dalc           0.019834  0.002386  0.076076  0.077897      ...         \n",
       "Walc          -0.047123 -0.012631 -0.012051  0.070024      ...         \n",
       "health        -0.046878  0.014742  0.065220 -0.018058      ...         \n",
       "passed         0.115396  0.108057  0.026592  0.028309      ...         \n",
       "absences_sqrt  0.098676  0.003426  0.053647 -0.014322      ...         \n",
       "\n",
       "               internet  romantic    famrel  freetime     goout      Dalc  \\\n",
       "school        -0.133578  0.060700 -0.047926  0.032988 -0.007152  0.114209   \n",
       "sex            0.044113 -0.102023  0.058971  0.238744  0.075897  0.268171   \n",
       "age           -0.112094  0.164669  0.053940  0.016434  0.126964  0.131125   \n",
       "address        0.216842  0.005257  0.014258  0.034878  0.068835 -0.093494   \n",
       "famsize        0.000720  0.034395 -0.022776  0.017695  0.023064  0.101521   \n",
       "Pstatus        0.070074 -0.040451  0.025179  0.038717  0.003459 -0.030590   \n",
       "Medu           0.201463  0.039681 -0.003914  0.030891  0.064094  0.019834   \n",
       "Fedu           0.127507  0.015602 -0.001370 -0.012846  0.043105  0.002386   \n",
       "Mjob           0.216969 -0.062999  0.038584  0.114321  0.003169  0.076076   \n",
       "Fjob           0.035777 -0.000583  0.013709 -0.047475  0.010340  0.077897   \n",
       "reason         0.049916  0.018894 -0.014934 -0.066834 -0.050937 -0.048539   \n",
       "guardian      -0.059394  0.093945  0.040979  0.045716  0.056557 -0.005847   \n",
       "traveltime    -0.111302  0.021962 -0.016808 -0.017025  0.028540  0.138325   \n",
       "studytime      0.059422  0.053285  0.039731 -0.143198 -0.063904 -0.196019   \n",
       "failures      -0.063451  0.093137 -0.044337  0.091987  0.124561  0.136047   \n",
       "schoolsup     -0.009683 -0.080716 -0.001345 -0.045465 -0.037698 -0.021485   \n",
       "famsup         0.103581  0.012440 -0.020436  0.010538 -0.015631 -0.031575   \n",
       "paid           0.153132  0.005536  0.000460 -0.064253  0.010493  0.062465   \n",
       "activities     0.048663  0.019651  0.040687  0.089728  0.046088 -0.066508   \n",
       "nursery        0.007830  0.027495 -0.003581 -0.024696  0.004612 -0.084849   \n",
       "higher         0.020374 -0.105664  0.024319 -0.061244 -0.039700 -0.069828   \n",
       "internet       1.000000  0.087122  0.032768  0.051286  0.074370  0.036210   \n",
       "romantic       0.087122  1.000000 -0.063816 -0.011182  0.007870  0.015121   \n",
       "famrel         0.032768 -0.063816  1.000000  0.150701  0.064568 -0.077594   \n",
       "freetime       0.051286 -0.011182  0.150701  1.000000  0.285019  0.209001   \n",
       "goout          0.074370  0.007870  0.064568  0.285019  1.000000  0.266994   \n",
       "Dalc           0.036210  0.015121 -0.077594  0.209001  0.266994  1.000000   \n",
       "Walc           0.011687 -0.010141 -0.113397  0.147822  0.420386  0.647544   \n",
       "health        -0.080189  0.026342  0.094056  0.075733 -0.009577  0.077180   \n",
       "passed         0.061791 -0.097737  0.046683 -0.018321 -0.183399 -0.057343   \n",
       "absences_sqrt  0.079460  0.086454 -0.086768 -0.025575  0.105372  0.156103   \n",
       "\n",
       "                   Walc    health    passed  absences_sqrt  \n",
       "school         0.065087 -0.042651 -0.031254      -0.082994  \n",
       "sex            0.274194  0.143588  0.070618      -0.028137  \n",
       "age            0.117276 -0.062187 -0.179645       0.159962  \n",
       "address       -0.101126 -0.040355  0.052282      -0.039513  \n",
       "famsize        0.103425 -0.028992  0.041842       0.058006  \n",
       "Pstatus        0.006045  0.022307 -0.044050      -0.112454  \n",
       "Medu          -0.047123 -0.046878  0.115396       0.098676  \n",
       "Fedu          -0.012631  0.014742  0.108057       0.003426  \n",
       "Mjob          -0.012051  0.065220  0.026592       0.053647  \n",
       "Fjob           0.070024 -0.018058  0.028309      -0.014322  \n",
       "reason        -0.044699 -0.157132  0.099300       0.133525  \n",
       "guardian      -0.040810 -0.067497 -0.101407       0.163972  \n",
       "traveltime     0.134116  0.007501 -0.044446      -0.019138  \n",
       "studytime     -0.253785 -0.075616  0.074613      -0.051577  \n",
       "failures       0.141962  0.065827 -0.337731       0.043303  \n",
       "schoolsup     -0.087152 -0.034124 -0.099860       0.042982  \n",
       "famsup        -0.086688  0.029297 -0.059219       0.043212  \n",
       "paid           0.060454 -0.078132  0.092665       0.042301  \n",
       "activities    -0.037477  0.023923  0.012414       0.025943  \n",
       "nursery       -0.099534 -0.018475 -0.008784       0.021653  \n",
       "higher        -0.100340 -0.015895  0.157708       0.011653  \n",
       "internet       0.011687 -0.080189  0.061791       0.079460  \n",
       "romantic      -0.010141  0.026342 -0.097737       0.086454  \n",
       "famrel        -0.113397  0.094056  0.046683      -0.086768  \n",
       "freetime       0.147822  0.075733 -0.018321      -0.025575  \n",
       "goout          0.420386 -0.009577 -0.183399       0.105372  \n",
       "Dalc           0.647544  0.077180 -0.057343       0.156103  \n",
       "Walc           1.000000  0.092476 -0.029957       0.191182  \n",
       "health         0.092476  1.000000 -0.065668      -0.055431  \n",
       "passed        -0.029957 -0.065668  1.000000      -0.009938  \n",
       "absences_sqrt  0.191182 -0.055431 -0.009938       1.000000  \n",
       "\n",
       "[31 rows x 31 columns]"
      ]
     },
     "execution_count": 423,
     "metadata": {},
     "output_type": "execute_result"
    }
   ],
   "source": [
    "#Matrice des corrélation\n",
    "df.corr(method='pearson')"
   ]
  },
  {
   "cell_type": "code",
   "execution_count": 424,
   "metadata": {
    "collapsed": false
   },
   "outputs": [
    {
     "data": {
      "text/plain": [
       "<matplotlib.axes._subplots.AxesSubplot at 0x30bb47b8>"
      ]
     },
     "execution_count": 424,
     "metadata": {},
     "output_type": "execute_result"
    },
    {
     "data": {
      "image/png": "[encoded data removed]",
      "text/plain": [
       "<matplotlib.figure.Figure at 0x310a2ac8>"
      ]
     },
     "metadata": {},
     "output_type": "display_data"
    }
   ],
   "source": [
    "import seaborn as sns  \n",
    "import matplotlib.pyplot as plt\n",
    "%matplotlib inline\n",
    "# graphique illustrant les corrélations\n",
    "fig, ax = plt.subplots(figsize=(22, 22))\n",
    "sns.corrplot(df, annot=True, sig_stars=False, diag_names=False)"
   ]
  },
  {
   "cell_type": "markdown",
   "metadata": {},
   "source": [
    "### Supression des variables"
   ]
  },
  {
   "cell_type": "markdown",
   "metadata": {},
   "source": [
    "* Selection des variables très peu corrélées à la cible"
   ]
  },
  {
   "cell_type": "code",
   "execution_count": 425,
   "metadata": {
    "collapsed": false
   },
   "outputs": [
    {
     "name": "stdout",
     "output_type": "stream",
     "text": [
      " les variables les moins corrélées à la variable cible\n",
      "\n",
      "('school', -0.0312536753550492)\n",
      "\n",
      "('famsize', 0.04184220871931188)\n",
      "\n",
      "('Pstatus', -0.044050217591330966)\n",
      "\n",
      "('Mjob', 0.026591622003174158)\n",
      "\n",
      "('Fjob', 0.028309249822316727)\n",
      "\n",
      "('traveltime', -0.044446484162442242)\n",
      "\n",
      "('activities', 0.012414175760635851)\n",
      "\n",
      "('nursery', -0.0087835767682583402)\n",
      "\n",
      "('famrel', 0.046683357692551358)\n",
      "\n",
      "('freetime', -0.018321373056005862)\n",
      "\n",
      "('Walc', -0.029956852852272571)\n",
      "\n",
      "('absences_sqrt', -0.0099384557102323908)\n",
      "\n"
     ]
    }
   ],
   "source": [
    "#Matrice des corrélation\n",
    "correl = df.corr(method='pearson')\n",
    "\n",
    "# Variables faiblement corrélées à la cible PASSEDN\n",
    "print(\" les variables les moins corrélées à la variable cible\")\n",
    "print\n",
    "for col in df.columns:\n",
    "     if abs(correl[\"passed\"][df[col].name]) < 0.05:\n",
    "        print (df[col].name, correl[\"passed\"][col])\n",
    "        print \n",
    "\n",
    "# 12 variables sont très peu corrélées à la cible"
   ]
  },
  {
   "cell_type": "markdown",
   "metadata": {},
   "source": [
    "* supression"
   ]
  },
  {
   "cell_type": "code",
   "execution_count": 426,
   "metadata": {
    "collapsed": false
   },
   "outputs": [],
   "source": [
    "#Suppression des variables moins corrélées à la cible \n",
    "df.drop(['school', 'famsize', 'Pstatus', 'Mjob', 'Fjob', 'traveltime','activities', 'nursery','famrel','freetime', 'Walc', \n",
    "             'absences_sqrt'],inplace=True,axis=1,errors='ignore')"
   ]
  },
  {
   "cell_type": "markdown",
   "metadata": {},
   "source": [
    "### Explication\n"
   ]
  },
  {
   "cell_type": "code",
   "execution_count": 427,
   "metadata": {
    "collapsed": true
   },
   "outputs": [],
   "source": [
    "# Les variables non corrélées à la ne sont pas utile pour notre modèle\n"
   ]
  },
  {
   "cell_type": "markdown",
   "metadata": {},
   "source": [
    "\n",
    "\n",
    "\n",
    "* Selection des variables redondantes"
   ]
  },
  {
   "cell_type": "code",
   "execution_count": 428,
   "metadata": {
    "collapsed": false
   },
   "outputs": [
    {
     "name": "stdout",
     "output_type": "stream",
     "text": [
      " les variables indépendantes fortement corrélées entre elles\n",
      "\n",
      "('Medu', 'Fedu', 0.62345511208064475)\n",
      "('Fedu', 'Medu', 0.62345511208064475)\n"
     ]
    }
   ],
   "source": [
    "# Destection des variables redondante entre les variables indépendantes\n",
    "print(\" les variables indépendantes fortement corrélées entre elles\") \n",
    "print\n",
    "for col in df.columns:\n",
    "    for row in df.columns:\n",
    "        if (df[col].name != df[row].name and abs(correl[df[row].name][df[col].name]) > 0.6) :\n",
    "            print (df[col].name, df[row].name, correl[df[row].name][df[col].name])\n"
   ]
  },
  {
   "cell_type": "markdown",
   "metadata": {},
   "source": [
    "* Supression"
   ]
  },
  {
   "cell_type": "code",
   "execution_count": 429,
   "metadata": {
    "collapsed": true
   },
   "outputs": [],
   "source": [
    "#Suppression des variables redondantes entre les moins corrélées à la cible \n",
    "df.drop(['Fedu'],inplace=True,axis=1,errors='ignore')"
   ]
  },
  {
   "cell_type": "markdown",
   "metadata": {},
   "source": [
    "### Explication"
   ]
  },
  {
   "cell_type": "code",
   "execution_count": 430,
   "metadata": {
    "collapsed": true
   },
   "outputs": [],
   "source": [
    "# Les variables independantes fortement correlees entre elles apportent du superflue dans les analyses\n",
    "# Nous ne retenons que celles des deux qui est le plus fortement correlée a la variable Cible \n"
   ]
  },
  {
   "cell_type": "code",
   "execution_count": 431,
   "metadata": {
    "collapsed": false
   },
   "outputs": [
    {
     "name": "stdout",
     "output_type": "stream",
     "text": [
      "(395, 18)\n"
     ]
    }
   ],
   "source": [
    "#Nouvelles tailles du dataframe\n",
    "print df.shape"
   ]
  },
  {
   "cell_type": "markdown",
   "metadata": {
    "collapsed": false
   },
   "source": [
    "### Exploration multi-dimensionnelle: PCA\n",
    "\n",
    "* Permet d'Extraire des variables dans un grand ensemble de variable "
   ]
  },
  {
   "cell_type": "code",
   "execution_count": 432,
   "metadata": {
    "collapsed": false
   },
   "outputs": [],
   "source": [
    "# import \n",
    "from sklearn.decomposition import PCA\n",
    "import numpy as np\n",
    "from sklearn.decomposition import PCA\n",
    "import pandas as pd\n",
    "import matplotlib.pyplot as plt\n",
    "from sklearn.preprocessing import scale\n",
    "%matplotlib inline\n",
    "\n",
    "# Définition des variables indépendantes et de la cible\n",
    "\n",
    "Y = df[\"passed\"]\n",
    "\n",
    "X = df\n",
    "X.drop(['passed'], inplace=True,axis=1,errors='ignore')\n"
   ]
  },
  {
   "cell_type": "markdown",
   "metadata": {},
   "source": [
    "* définition du modèle"
   ]
  },
  {
   "cell_type": "code",
   "execution_count": 433,
   "metadata": {
    "collapsed": false
   },
   "outputs": [
    {
     "data": {
      "text/plain": [
       "PCA(copy=True, n_components=17, whiten=False)"
      ]
     },
     "execution_count": 433,
     "metadata": {},
     "output_type": "execute_result"
    }
   ],
   "source": [
    "# définition du modèle\n",
    "pca = PCA(n_components=17)\n",
    "\n",
    "# Estimation, calcul des composantes principales\n",
    "pca.fit(X)\n",
    "\n"
   ]
  },
  {
   "cell_type": "markdown",
   "metadata": {},
   "source": [
    "* Graphique  de la variance cumulative"
   ]
  },
  {
   "cell_type": "code",
   "execution_count": 434,
   "metadata": {
    "collapsed": false
   },
   "outputs": [
    {
     "name": "stdout",
     "output_type": "stream",
     "text": [
      "[  19.01   36.52   49.05   61.12   70.09   77.22   82.41   86.45   89.09\n",
      "   91.24   93.2    94.91   96.44   97.83   98.8    99.66  100.01]\n"
     ]
    },
    {
     "data": {
      "text/plain": [
       "[<matplotlib.lines.Line2D at 0x323128d0>]"
      ]
     },
     "execution_count": 434,
     "metadata": {},
     "output_type": "execute_result"
    },
    {
     "data": {
      "image/png": "[encoded data removed]",
      "text/plain": [
       "<matplotlib.figure.Figure at 0x2e6ea240>"
      ]
     },
     "metadata": {},
     "output_type": "display_data"
    }
   ],
   "source": [
    "# variance expliquée par chaque PC explique\n",
    "var= pca.explained_variance_ratio_\n",
    "\n",
    "# Variance cumulative\n",
    "var1=np.cumsum(np.round(pca.explained_variance_ratio_, decimals=4)*100)\n",
    "print var1\n",
    "\n",
    "plt.plot(var1)\n",
    "\n"
   ]
  },
  {
   "cell_type": "markdown",
   "metadata": {},
   "source": [
    "* Explication"
   ]
  },
  {
   "cell_type": "code",
   "execution_count": 435,
   "metadata": {
    "collapsed": true
   },
   "outputs": [],
   "source": [
    "# le graphique montre que 17 composantes expliquent environ (100.01%) de la variance de données. \n",
    "# Ainsi, nous conservons toutes nos variables pour la modélisation.\n",
    "# Null besoin d'extraire des variables\n"
   ]
  },
  {
   "cell_type": "markdown",
   "metadata": {},
   "source": [
    "# V MODÉLISATION\n",
    "\n",
    "* l'Arbre de décision\n",
    "* KNN"
   ]
  },
  {
   "cell_type": "markdown",
   "metadata": {},
   "source": [
    "###  Programme d'exécution du modèle"
   ]
  },
  {
   "cell_type": "code",
   "execution_count": 436,
   "metadata": {
    "collapsed": false
   },
   "outputs": [],
   "source": [
    "#Importation des modèles du module scikit learn:\n",
    "from sklearn.linear_model import LogisticRegression\n",
    "from sklearn.cross_validation import KFold   #For K-fold cross validation\n",
    "from sklearn.ensemble import RandomForestClassifier\n",
    "from sklearn.tree import DecisionTreeClassifier, export_graphviz\n",
    "from sklearn import metrics\n",
    "from sklearn.cross_validation import train_test_split\n",
    "from sklearn.metrics import f1_score\n",
    "\n",
    "# fonction Générique pour les modèles de classification et l'évaluation des performances:\n",
    "def classification_model(model,predictors, outcome):\n",
    " \n",
    " print \" Resultats selon les échantillons d'apprentissage \"\n",
    " i = 100\n",
    " while i <= 300:\n",
    "      # Effectuer l'apprentissage du model sur tout le dataset\n",
    "    X_train, X_test, y_train, y_test = train_test_split(predictors, outcome, train_size = i, test_size=0.24, random_state = 33)\n",
    "    # predire la réponse pour les observations dans X, test du model\n",
    "    print (\"_______________________________________________________\")\n",
    "    print X_train.shape, X_test.shape, y_train.shape, y_test.shape\n",
    "    print\n",
    "    #implémentation du modèle:\n",
    "    model.fit(X_train,y_train)\n",
    "    \n",
    "    #Prédiction:\n",
    "    predtrain = model.predict(X_train)\n",
    "    predtest = model.predict(X_test)\n",
    "     \n",
    "    #calcul des performances F1_score\n",
    "    scoretrain = f1_score(y_train, predtrain, average='micro')\n",
    "    scoretest = f1_score(y_test, predtest, average='micro')\n",
    "    print \"F1_score Train : %s\" % \"{0:.3%}\".format(scoretrain)\n",
    "    print \"F1_score Test : %s\" % \"{0:.3%}\".format(scoretest)\n",
    "    i = i+100\n",
    "    print\n",
    "\n"
   ]
  },
  {
   "cell_type": "markdown",
   "metadata": {},
   "source": [
    "## Méthode du KNN"
   ]
  },
  {
   "cell_type": "markdown",
   "metadata": {},
   "source": [
    "* Selection du meilleur K adapté pour les données"
   ]
  },
  {
   "cell_type": "code",
   "execution_count": 437,
   "metadata": {
    "collapsed": true
   },
   "outputs": [],
   "source": [
    "from sklearn import metrics \n",
    "from sklearn.metrics import f1_score\n",
    "from sklearn.cross_validation import train_test_split\n",
    "\n",
    "# Effectuer l'apprentissage du model sur tout le dataset\n",
    "X_train, X_test, y_train, y_test = train_test_split(X, Y, \n",
    "test_size=0.25, random_state = 33)\n",
    "# K=1 a K=30 et calcul testing accuracy pour knn\n",
    "k_range = range(1, 26)\n",
    "scores = []\n",
    "for k in k_range:\n",
    "    knn = neighbors.KNeighborsClassifier(n_neighbors=k)\n",
    "    knn.fit(X_train, y_train)\n",
    "    y_pred = knn.predict(X_test)\n",
    "    scores.append(f1_score(y_test, y_pred))"
   ]
  },
  {
   "cell_type": "code",
   "execution_count": 438,
   "metadata": {
    "collapsed": false
   },
   "outputs": [
    {
     "data": {
      "text/plain": [
       "<matplotlib.text.Text at 0x324da2b0>"
      ]
     },
     "execution_count": 438,
     "metadata": {},
     "output_type": "execute_result"
    },
    {
     "data": {
      "image/png": "[encoded data removed]",
      "text/plain": [
       "<matplotlib.figure.Figure at 0x324ed208>"
      ]
     },
     "metadata": {},
     "output_type": "display_data"
    }
   ],
   "source": [
    "# Tracer le graphe\n",
    "\n",
    "% matplotlib inline\n",
    "plt.plot(k_range, scores)\n",
    "plt.xlabel('Valeur de K pour KNN')\n",
    "plt.ylabel('Testing Accuracy')"
   ]
  },
  {
   "cell_type": "code",
   "execution_count": 460,
   "metadata": {
    "collapsed": false
   },
   "outputs": [
    {
     "name": "stdout",
     "output_type": "stream",
     "text": [
      " Resultats selon les échantillons d'apprentissage \n",
      "_______________________________________________________\n",
      "(100, 17) (95, 17) (100L,) (95L,)\n",
      "\n",
      "F1_score Train : 86.705%\n",
      "F1_score Test : 74.483%\n",
      "\n",
      "_______________________________________________________\n",
      "(200, 17) (95, 17) (200L,) (95L,)\n",
      "\n",
      "F1_score Train : 85.093%\n",
      "F1_score Test : 72.727%\n",
      "\n",
      "_______________________________________________________\n",
      "(300, 17) (95, 17) (300L,) (95L,)\n",
      "\n",
      "F1_score Train : 84.711%\n",
      "F1_score Test : 73.239%\n",
      "\n",
      "Temps d'execution = 0.033000\n"
     ]
    },
    {
     "name": "stderr",
     "output_type": "stream",
     "text": [
      "C:\\Anaconda2\\lib\\site-packages\\sklearn\\metrics\\classification.py:976: DeprecationWarning: From version 0.18, binary input will not be handled specially when using averaged precision/recall/F-score. Please use average='binary' to report only the positive class performance.\n",
      "  'positive class performance.', DeprecationWarning)\n",
      "C:\\Anaconda2\\lib\\site-packages\\sklearn\\metrics\\classification.py:976: DeprecationWarning: From version 0.18, binary input will not be handled specially when using averaged precision/recall/F-score. Please use average='binary' to report only the positive class performance.\n",
      "  'positive class performance.', DeprecationWarning)\n",
      "C:\\Anaconda2\\lib\\site-packages\\sklearn\\metrics\\classification.py:976: DeprecationWarning: From version 0.18, binary input will not be handled specially when using averaged precision/recall/F-score. Please use average='binary' to report only the positive class performance.\n",
      "  'positive class performance.', DeprecationWarning)\n",
      "C:\\Anaconda2\\lib\\site-packages\\sklearn\\metrics\\classification.py:976: DeprecationWarning: From version 0.18, binary input will not be handled specially when using averaged precision/recall/F-score. Please use average='binary' to report only the positive class performance.\n",
      "  'positive class performance.', DeprecationWarning)\n",
      "C:\\Anaconda2\\lib\\site-packages\\sklearn\\metrics\\classification.py:976: DeprecationWarning: From version 0.18, binary input will not be handled specially when using averaged precision/recall/F-score. Please use average='binary' to report only the positive class performance.\n",
      "  'positive class performance.', DeprecationWarning)\n",
      "C:\\Anaconda2\\lib\\site-packages\\sklearn\\metrics\\classification.py:976: DeprecationWarning: From version 0.18, binary input will not be handled specially when using averaged precision/recall/F-score. Please use average='binary' to report only the positive class performance.\n",
      "  'positive class performance.', DeprecationWarning)\n"
     ]
    }
   ],
   "source": [
    "# K=16 est la valeur pour laquelle l'algorithme offre une meilleur performance\n",
    "\n",
    "from sklearn import neighbors\n",
    "import time\n",
    "\n",
    "#KNN avec K=16\n",
    "model_knn = neighbors.KNeighborsClassifier(16,weights='uniform')\n",
    "outcome_var = Y\n",
    "predictor_var = X\n",
    "tmps1=time.time()\n",
    "classification_model(model_knn, predictor_var,outcome_var)\n",
    "tmps2=time.time()-tmps1\n",
    "\n",
    "# Temps d'exécution du modèle\n",
    "print \"Temps d'execution = %f\" %tmps2\n",
    "    "
   ]
  },
  {
   "cell_type": "markdown",
   "metadata": {},
   "source": [
    "* Constat"
   ]
  },
  {
   "cell_type": "code",
   "execution_count": 440,
   "metadata": {
    "collapsed": true
   },
   "outputs": [],
   "source": [
    "# Plus la taille d'apprentissage est grande, la prédiction de l'échantillon train diminue\n",
    "# Plus la taille d'apprentissage est grande, la prédiction du test fluctue dans la décroissante et la croissance"
   ]
  },
  {
   "cell_type": "markdown",
   "metadata": {},
   "source": [
    "## Arbre de décision"
   ]
  },
  {
   "cell_type": "markdown",
   "metadata": {},
   "source": [
    "* Selection de la meilleur profondeur de l'arbre adaptée pour nos donnée"
   ]
  },
  {
   "cell_type": "code",
   "execution_count": 441,
   "metadata": {
    "collapsed": false
   },
   "outputs": [
    {
     "name": "stdout",
     "output_type": "stream",
     "text": [
      "('max_depth', 1, 'erreur', 0.42722358194697291, 0.49566615639703909)\n",
      "('max_depth', 2, 'erreur', 0.41589284468595505, 0.49365523524620808)\n",
      "('max_depth', 3, 'erreur', 0.40502605238256351, 0.48754452035889534)\n",
      "('max_depth', 4, 'erreur', 0.39150479770500168, 0.49323065910215957)\n",
      "('max_depth', 5, 'erreur', 0.38473698098037523, 0.5067828783544378)\n",
      "('max_depth', 6, 'erreur', 0.37714015129754908, 0.53251699134800268)\n",
      "('max_depth', 7, 'erreur', 0.37385166017029259, 0.53461769176131679)\n",
      "('max_depth', 8, 'erreur', 0.37385166017029259, 0.53461769176131679)\n",
      "('max_depth', 9, 'erreur', 0.37385166017029259, 0.53461769176131679)\n"
     ]
    },
    {
     "data": {
      "text/plain": [
       "<matplotlib.legend.Legend at 0x3077f4a8>"
      ]
     },
     "execution_count": 441,
     "metadata": {},
     "output_type": "execute_result"
    },
    {
     "data": {
      "image/png": "[encoded data removed]",
      "text/plain": [
       "<matplotlib.figure.Figure at 0x2c0e98d0>"
      ]
     },
     "metadata": {},
     "output_type": "display_data"
    }
   ],
   "source": [
    "from sklearn.tree import DecisionTreeRegressor\n",
    "import matplotlib.pyplot as plt\n",
    "from sklearn.metrics import mean_squared_error\n",
    "from sklearn.cross_validation import train_test_split\n",
    "\n",
    "# Effectuer l'apprentissage du model sur tout le dataset\n",
    "X_train, X_test, y_train, y_test = train_test_split(X, Y, \n",
    "test_size=0.25, random_state = 33)\n",
    "curves = []\n",
    "for max_depth in range(1,10) :\n",
    "    clf = DecisionTreeRegressor(min_samples_leaf=10, max_depth=max_depth)\n",
    "    clf = clf.fit(X_train, y_train)\n",
    "    erra = mean_squared_error( clf.predict(X_train), y_train)**0.5\n",
    "    errb = mean_squared_error( clf.predict(X_test), y_test)**0.5\n",
    "    print(\"max_depth\",max_depth, \"erreur\",erra,errb)\n",
    "    curves.append((max_depth, erra,errb, clf) )\n",
    "plt.plot ( [c[0] for c in curves], [c[1] for c in curves], label=\"train\")\n",
    "plt.plot ( [c[0] for c in curves], [c[2] for c in curves], label=\"test\")\n",
    "plt.legend()"
   ]
  },
  {
   "cell_type": "markdown",
   "metadata": {},
   "source": [
    "* Explication "
   ]
  },
  {
   "cell_type": "code",
   "execution_count": 442,
   "metadata": {
    "collapsed": true
   },
   "outputs": [],
   "source": [
    "# Dès  'max_depth'=7, l'écart de l'erreur ne change presque plus d'où\n",
    "# On va donc construire l'arbre avec cette valeur de  'max_depth'=7"
   ]
  },
  {
   "cell_type": "code",
   "execution_count": 458,
   "metadata": {
    "collapsed": false
   },
   "outputs": [
    {
     "name": "stdout",
     "output_type": "stream",
     "text": [
      " Resultats selon les échantillons d'apprentissage \n",
      "_______________________________________________________\n",
      "(100, 17) (95, 17) (100L,) (95L,)\n",
      "\n",
      "F1_score Train : 99.338%\n",
      "F1_score Test : 66.667%\n",
      "\n",
      "_______________________________________________________\n",
      "(200, 17) (95, 17) (200L,) (95L,)\n",
      "\n",
      "F1_score Train : 97.527%\n",
      "F1_score Test : 62.069%\n",
      "\n",
      "_______________________________________________________\n",
      "(300, 17) (95, 17) (300L,) (95L,)\n",
      "\n",
      "F1_score Train : 92.617%\n",
      "F1_score Test : 75.591%\n",
      "\n",
      "Temps d'execution = 0.014000\n"
     ]
    },
    {
     "name": "stderr",
     "output_type": "stream",
     "text": [
      "C:\\Anaconda2\\lib\\site-packages\\sklearn\\metrics\\classification.py:976: DeprecationWarning: From version 0.18, binary input will not be handled specially when using averaged precision/recall/F-score. Please use average='binary' to report only the positive class performance.\n",
      "  'positive class performance.', DeprecationWarning)\n",
      "C:\\Anaconda2\\lib\\site-packages\\sklearn\\metrics\\classification.py:976: DeprecationWarning: From version 0.18, binary input will not be handled specially when using averaged precision/recall/F-score. Please use average='binary' to report only the positive class performance.\n",
      "  'positive class performance.', DeprecationWarning)\n",
      "C:\\Anaconda2\\lib\\site-packages\\sklearn\\metrics\\classification.py:976: DeprecationWarning: From version 0.18, binary input will not be handled specially when using averaged precision/recall/F-score. Please use average='binary' to report only the positive class performance.\n",
      "  'positive class performance.', DeprecationWarning)\n",
      "C:\\Anaconda2\\lib\\site-packages\\sklearn\\metrics\\classification.py:976: DeprecationWarning: From version 0.18, binary input will not be handled specially when using averaged precision/recall/F-score. Please use average='binary' to report only the positive class performance.\n",
      "  'positive class performance.', DeprecationWarning)\n",
      "C:\\Anaconda2\\lib\\site-packages\\sklearn\\metrics\\classification.py:976: DeprecationWarning: From version 0.18, binary input will not be handled specially when using averaged precision/recall/F-score. Please use average='binary' to report only the positive class performance.\n",
      "  'positive class performance.', DeprecationWarning)\n",
      "C:\\Anaconda2\\lib\\site-packages\\sklearn\\metrics\\classification.py:976: DeprecationWarning: From version 0.18, binary input will not be handled specially when using averaged precision/recall/F-score. Please use average='binary' to report only the positive class performance.\n",
      "  'positive class performance.', DeprecationWarning)\n"
     ]
    }
   ],
   "source": [
    "# Créer l'objet Classifier\n",
    "from sklearn.tree import DecisionTreeClassifier \n",
    "import time \n",
    "model_tree = DecisionTreeClassifier(max_depth=7) \n",
    "outcome_var = Y\n",
    "predictor_var = X\n",
    "\n",
    "tmps1=time.time()\n",
    "classification_model(model_tree, predictor_var,outcome_var)\n",
    "tmps2=time.time()-tmps1\n",
    "print \"Temps d'execution = %f\" %tmps2"
   ]
  },
  {
   "cell_type": "markdown",
   "metadata": {},
   "source": [
    "* Constat"
   ]
  },
  {
   "cell_type": "code",
   "execution_count": 444,
   "metadata": {
    "collapsed": true
   },
   "outputs": [],
   "source": [
    "# Plus la taille d'apprentissage est grande, la prédiction de l'échantillon train diminue\n",
    "# Plus la taille d'apprentissage est grande, la prédiction du test fluctue dans la décroissante et la croissance"
   ]
  },
  {
   "cell_type": "markdown",
   "metadata": {},
   "source": [
    "# VI CHOIX DU MEILLEUR MODÈLE\n"
   ]
  },
  {
   "cell_type": "markdown",
   "metadata": {},
   "source": [
    "### Critères de choix\n",
    "\n",
    "* Meilleur combinaison prédiction train et prédiction test\n",
    "* Meilleur temps d'exécution"
   ]
  },
  {
   "cell_type": "code",
   "execution_count": 447,
   "metadata": {
    "collapsed": true
   },
   "outputs": [],
   "source": [
    "\n",
    "# L'Arbre de décision est le meilleur modèle qui combinent la meilleure prédiction et le meilleur temps d'exécution\n"
   ]
  },
  {
   "cell_type": "markdown",
   "metadata": {},
   "source": [
    "### Sauvegarde du modèle Arbre de décision"
   ]
  },
  {
   "cell_type": "code",
   "execution_count": 446,
   "metadata": {
    "collapsed": false
   },
   "outputs": [
    {
     "name": "stdout",
     "output_type": "stream",
     "text": [
      "sauvegarde du modele terminée !\n"
     ]
    }
   ],
   "source": [
    "# sauvegarder le modele\n",
    "import pickle\n",
    "model_tree = DecisionTreeClassifier(max_depth=7) \n",
    "outcome_var = Y\n",
    "predictor_var = X\n",
    "  \n",
    "\n",
    "filename = 'tree_model.sav'\n",
    "pickle.dump(model_tree, open(filename, 'wb'))\n",
    "print \"sauvegarde du modele terminée !\""
   ]
  }
 ],
 "metadata": {
  "kernelspec": {
   "display_name": "Python 2",
   "language": "python",
   "name": "python2"
  },
  "language_info": {
   "codemirror_mode": {
    "name": "ipython",
    "version": 2
   },
   "file_extension": ".py",
   "mimetype": "text/x-python",
   "name": "python",
   "nbconvert_exporter": "python",
   "pygments_lexer": "ipython2",
   "version": "2.7.12"
  }
 },
 "nbformat": 4,
 "nbformat_minor": 0
}
